{
 "cells": [
  {
   "cell_type": "code",
   "execution_count": null,
   "metadata": {},
   "outputs": [],
   "source": [
    "from karel.stanfordkarel import *\n",
    "\n",
    "\"\"\"\n",
    "Each row starts with a stack of beepers. Karel should pick them\n",
    "up, one at a time, and spread them down the row. \n",
    "Caution! Karel can't count, and starts with infinite beepers in\n",
    "her bag. How can you solve this puzzle?\n",
    "\"\"\"\n",
    "def turn_around():\n",
    "    turn_left()\n",
    "    turn_left()\n",
    "\n",
    "def back_beeper():\n",
    "    while front_is_clear():\n",
    "        move()\n",
    "    turn_around()\n",
    "    move()\n",
    "\n",
    "def spread_beeper():\n",
    "    if beepers_present():\n",
    "        pick_beeper()\n",
    "    if beepers_present():\n",
    "        while beepers_present():\n",
    "            move()\n",
    "        put_beeper()\n",
    "\n",
    "def main():\n",
    "    move()\n",
    "    while beepers_present():\n",
    "        spread_beeper()\n",
    "        turn_around()\n",
    "        back_beeper()\n",
    "    put_beeper()\n",
    "    turn_around()\n",
    "    move()\n",
    "    turn_around()\n",
    "    pass\n",
    "\n",
    "\n",
    "# There is no need to edit code beyond this point\n",
    "if __name__ == '__main__':\n",
    "    main()"
   ]
  }
 ],
 "metadata": {
  "language_info": {
   "name": "python"
  }
 },
 "nbformat": 4,
 "nbformat_minor": 2
}
