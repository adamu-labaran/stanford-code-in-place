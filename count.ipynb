{
 "cells": [
  {
   "cell_type": "code",
   "execution_count": 5,
   "metadata": {},
   "outputs": [
    {
     "name": "stdout",
     "output_type": "stream",
     "text": [
      "3 appears 3 times. \n",
      "4 appears 2 times. \n",
      "6 appears 1 times. \n",
      "7 appears 2 times. \n",
      "9 appears 1 times. \n"
     ]
    }
   ],
   "source": [
    "# this program is design to count the number of times a number appear in a dictionary\n",
    "# utility functions\n",
    "def count_nums(num_list):\n",
    "    \"\"\"\n",
    "    create an empty dictionary\n",
    "    loop over the list of numbers\n",
    "    if the number is not in the dictionary, add it as a key with a value of 1\n",
    "    if the number is in the dictionary, increament its value by 1.\n",
    "    \"\"\"\n",
    "    counts = {}\n",
    "    for i in range(len(num_list)):\n",
    "        num = num_list[i]\n",
    "        # process the number\n",
    "        if num not in counts.keys():\n",
    "            counts[num] = 1 \n",
    "            \n",
    "            # each time iterating num_list add the value to counts dictionary as key and assign 1 to it as its value\n",
    "        else:\n",
    "            counts[num] += 1 \n",
    "             \n",
    "            # if the number exist from the counts dict. update the index and increment its value by 1\n",
    "    return counts\n",
    "            \n",
    "            \n",
    "\n",
    "\n",
    "def print_counts(counts):\n",
    "    \"\"\"\n",
    "    loop over dictionary and print out each key and it value\n",
    "\n",
    "    \"\"\"\n",
    "    for key, value, in counts.items():\n",
    "        print(str(key) + \" appears \" + str(value) + \" times. \")\n",
    "    # for key in counts:\n",
    "    #     value = counts[key]\n",
    "    #     print(str(key) + \" appears \" + str(value) + \" times. \")\n",
    "\n",
    "\n",
    "def main():\n",
    "    \"\"\"\n",
    "    ask the user to input numbers and store them in a list.\n",
    "    print ouut the number of items each number append in the list.\n",
    "    \"\"\"\n",
    "    num_list = [3, 4, 6, 3, 7, 3, 9, 4, 7]\n",
    "    counts = count_nums(num_list)\n",
    "    print_counts(counts)\n",
    "    \n",
    "    # the keys are the unique numbers from the list\n",
    "    # values are the count of times each of those numbers apperas in the list\n",
    "    \"\"\"\n",
    "    3 -> 3\n",
    "    4 -> 2\n",
    "    6 -> 1\n",
    "    7 -> 2\n",
    "    9 -> 1\n",
    "    \"\"\"\n",
    "    \n",
    "    \n",
    "\n",
    "\n",
    "\n",
    "if __name__ == '__main__':\n",
    "    main()"
   ]
  },
  {
   "cell_type": "code",
   "execution_count": null,
   "metadata": {},
   "outputs": [],
   "source": []
  }
 ],
 "metadata": {
  "kernelspec": {
   "display_name": "Python 3",
   "language": "python",
   "name": "python3"
  },
  "language_info": {
   "codemirror_mode": {
    "name": "ipython",
    "version": 3
   },
   "file_extension": ".py",
   "mimetype": "text/x-python",
   "name": "python",
   "nbconvert_exporter": "python",
   "pygments_lexer": "ipython3",
   "version": "3.11.3"
  }
 },
 "nbformat": 4,
 "nbformat_minor": 2
}
