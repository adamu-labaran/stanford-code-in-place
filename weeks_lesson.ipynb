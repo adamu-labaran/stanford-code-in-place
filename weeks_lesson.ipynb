{
 "cells": [
  {
   "cell_type": "code",
   "execution_count": 1,
   "metadata": {},
   "outputs": [
    {
     "name": "stdout",
     "output_type": "stream",
     "text": [
      "This program adds two numbers.\n",
      "The total is 3666.\n"
     ]
    }
   ],
   "source": [
    "\"\"\"\n",
    "Program: add2numbers\n",
    "--------------------\n",
    "Another python program to get some practice with\n",
    "variables.  This program asks the user for two\n",
    "integers and prints their sum.\n",
    "\"\"\"\n",
    "\n",
    "\"\"\"\n",
    "This is a worked example. This code is starter code; you should edit and run it to \n",
    "solve the problem. You can click the blue show solution button on the left to see \n",
    "the answer if you get too stuck or want to check your work!\n",
    "\n",
    "Note: The starter code for this example is the solution.\n",
    "\"\"\"\n",
    "\n",
    "def main():\n",
    "    print(\"This program adds two numbers.\")\n",
    "    num1 = input(\"Enter first number: \")\n",
    "    num1 = int(num1)\n",
    "    num2 = input(\"Enter second number: \")\n",
    "    num2 = int(num2)\n",
    "    total = num1 + num2\n",
    "    print(\"The total is \" + str(total) + \".\")\n",
    "\n",
    "\n",
    "# This provided line is required at the end of\n",
    "# Python file to call the main() function.\n",
    "if __name__ == '__main__':\n",
    "    main()"
   ]
  },
  {
   "cell_type": "code",
   "execution_count": null,
   "metadata": {},
   "outputs": [],
   "source": []
  },
  {
   "cell_type": "code",
   "execution_count": null,
   "metadata": {},
   "outputs": [],
   "source": [
    "Write a program to solve this age-related riddle!\n",
    "\n",
    "Anton, Beth, Chen, Drew, and Ethan are all friends. Their ages are as follows:\n",
    "\n",
    "Anton is 21 years old.\n",
    "\n",
    "Beth is 6 years older than Anton.\n",
    "\n",
    "Chen is 20 years older than Beth.\n",
    "\n",
    "Drew is as old as Chen's age plus Anton's age.\n",
    "\n",
    "Ethan is the same age as Chen.\n",
    "\n",
    "Your code should store each person's age to a variable and print their names and ages at the end. The autograder is sensitive to capitalization and punctuation, be careful! Your solution should look like this (the below numbers are made up -- your solution should have the correct values!):\n",
    "\n",
    "Anton is 3\n",
    "\n",
    "Beth is 4\n",
    "\n",
    "Chen is 5\n",
    "\n",
    "Drew is 6\n",
    "\n",
    "Ethan is 7"
   ]
  },
  {
   "cell_type": "code",
   "execution_count": 2,
   "metadata": {},
   "outputs": [
    {
     "name": "stdout",
     "output_type": "stream",
     "text": [
      "Anton is 21\n",
      "Beth is 27\n",
      "Chen is 47\n",
      "Drew is 68\n",
      "Ethan is 47\n"
     ]
    }
   ],
   "source": [
    "\"\"\"\n",
    "This is a worked example. This code is starter code; you should edit and run it to \n",
    "solve the problem. You can click the blue show solution button on the left to see \n",
    "the answer if you get too stuck or want to check your work!\n",
    "\"\"\"\n",
    "\n",
    "def main():\n",
    "    # Anthons age\n",
    "    anton_age = 21\n",
    "\n",
    "    # Beth is 6 years older than Anthon\n",
    "    beth_age = anton_age + 6\n",
    "\n",
    "    # chen is 20 years older than Beth\n",
    "    chen_age = beth_age + 20\n",
    "\n",
    "    #  Drew is as old as Chen's age plus anthon's age\n",
    "    drew_age = chen_age + anton_age\n",
    "\n",
    "    # Ethan is the same age as Chen\n",
    "    ethan_age = chen_age\n",
    "\n",
    "    # printing each of their ages\n",
    "    print(\"Anton is\", anton_age)\n",
    "    print(\"Beth is\", beth_age)\n",
    "    print(\"Chen is\", chen_age)\n",
    "    print(\"Drew is\", drew_age)\n",
    "    print(\"Ethan is\", ethan_age)\n",
    "\n",
    "\n",
    "\n",
    "\n",
    "# There is no need to edit code beyond this point\n",
    "\n",
    "if __name__ == '__main__':\n",
    "    main()"
   ]
  },
  {
   "cell_type": "code",
   "execution_count": null,
   "metadata": {},
   "outputs": [],
   "source": [
    "\n",
    "\"\"\"\n",
    "This is a worked example. This code is starter code; you should edit and run it to \n",
    "solve the problem. You can click the blue show solution button on the left to see \n",
    "the answer if you get too stuck or want to check your work!\n",
    "\"\"\"\n",
    "\n",
    "def main():\n",
    "    your_fav_animal = input(\"What's your favorite animal?\")\n",
    "\n",
    "    print(\"My favorite animal is also\", your_fav_animal + \"!\")\n",
    "\n",
    "\n",
    "# There is no need to edit code beyond this point\n",
    "\n",
    "if __name__ == '__main__':\n",
    "    main()"
   ]
  },
  {
   "cell_type": "code",
   "execution_count": null,
   "metadata": {},
   "outputs": [],
   "source": [
    "\"\"\"\n",
    "This is a worked example. This code is starter code; you should edit and run it to \n",
    "solve the problem. You can click the blue show solution button on the left to see \n",
    "the answer if you get too stuck or want to check your work!\n",
    "\"\"\"\n",
    "\n",
    "def main():\n",
    "    num = input(\"Type a number to see its square: \")\n",
    "    num = float(num)\n",
    "    square = num * num\n",
    "\n",
    "    print(f\"{num} squared is {square}\")\n",
    "\n",
    "\n",
    "# There is no need to edit code beyond this point\n",
    "\n",
    "if __name__ == '__main__':\n",
    "    main()"
   ]
  },
  {
   "cell_type": "code",
   "execution_count": null,
   "metadata": {},
   "outputs": [],
   "source": [
    "\"\"\"\n",
    "This is a worked example. This code is starter code; you should edit and run it to \n",
    "solve the problem. You can click the blue show solution button on the left to see \n",
    "the answer if you get too stuck or want to check your work!\n",
    "\"\"\"\n",
    "\n",
    "def main():\n",
    "    # Prompt the user to enter the lengths of each side of the triangle\n",
    "    side1 = float(input(\"What is the length of side 1? \"))\n",
    "    side2 = float(input(\"What is the length of side 2? \"))\n",
    "    side3 = float(input(\"What is the length of side 3? \"))\n",
    "\n",
    "    # Calculate the perimeter of the triangle\n",
    "    perimeter = side1 + side2 + side3\n",
    "\n",
    "    # Print the perimeter of the triangle\n",
    "    print(\"The perimeter of the triangle is\", perimeter)\n",
    "\n",
    "\n",
    "# There is no need to edit code beyond this point\n",
    "\n",
    "if __name__ == '__main__':\n",
    "    main()"
   ]
  },
  {
   "cell_type": "code",
   "execution_count": 3,
   "metadata": {},
   "outputs": [],
   "source": [
    "# predence | () parentheses, ** exponentiation, - negation (urinary), +-*/%\n",
    "\n",
    "def main():\n",
    "    INCHES_IN_FOOT = 12\n",
    "    PI = 3.1415\n",
    "    radius = 45\n",
    "    area  = PI * (radius ** 2)"
   ]
  },
  {
   "cell_type": "code",
   "execution_count": 4,
   "metadata": {},
   "outputs": [
    {
     "name": "stdout",
     "output_type": "stream",
     "text": [
      "That is  276.0 inches!\n"
     ]
    }
   ],
   "source": [
    "INCHES_IN_FOOOT = 12\n",
    "def main():\n",
    "    feet = float(input(\"Please enter number of feet: \"))\n",
    "    inches = feet * INCHES_IN_FOOOT\n",
    "    print(\"That is \", inches, \"inches!\")\n",
    "    \n",
    "    \n",
    "if __name__ == '__main__':\n",
    "    main()"
   ]
  },
  {
   "cell_type": "code",
   "execution_count": 6,
   "metadata": {},
   "outputs": [
    {
     "name": "stdout",
     "output_type": "stream",
     "text": [
      "square root of 33.0 is 5.744562646538029\n"
     ]
    }
   ],
   "source": [
    "import math\n",
    "x = 3\n",
    "math.pi\n",
    "math.e\n",
    "math.sqrt(x)\n",
    "math.exp(x)\n",
    "math.log(x)\n",
    "\n",
    "def main():\n",
    "    num = float(input(\"enter number\"))\n",
    "    root = math.sqrt(num)\n",
    "    print(f\"square root of {num} is {root}\")\n",
    "\n",
    "\n",
    "\n",
    "if __name__ == '__main__':\n",
    "    main()"
   ]
  },
  {
   "cell_type": "code",
   "execution_count": null,
   "metadata": {},
   "outputs": [],
   "source": [
    "# pseudo random number\n",
    "\n",
    "import random \n",
    "random.randint(nim, max) \n",
    "random.random() # btw 0 and 1\n",
    "random.uniform(min, max)\n",
    "random.seed(x)"
   ]
  },
  {
   "cell_type": "code",
   "execution_count": null,
   "metadata": {},
   "outputs": [],
   "source": [
    "Converts feet to inches. Feet is an American unit of measurement. There are 12 inches per foot. Foot is the singular, and feet is the plural.\n",
    "\n",
    "\"\"\"\n",
    "This is a worked example. This code is starter code; you should edit and run it to \n",
    "solve the problem. You can click the blue show solution button on the left to see \n",
    "the answer if you get too stuck or want to check your work!\n",
    "\n",
    "Note: The starter code for this example is the solution.\n",
    "\"\"\"\n",
    "\n",
    "\"\"\"\n",
    "An example program with constants\n",
    "\"\"\"\n",
    "\n",
    "INCHES_IN_FOOT = 12  # Conversion factor. There are 12 inches for 1 foot.\n",
    "\n",
    "def main():\n",
    "    # Prompt the user to enter the length in feet\n",
    "    feet = float(input(\"Enter length in feet: \"))\n",
    "\n",
    "    # Convert feet to inches\n",
    "    inches = feet * 12\n",
    "\n",
    "    # Print the converted length\n",
    "    print(f\"{feet} feet is equal to {inches} inches.\")\n",
    "\n",
    "    \n",
    "    \n",
    "# This provided line is required at the end of a Python file\n",
    "# to call the main() function.\n",
    "if __name__ == '__main__':\n",
    "    main()"
   ]
  },
  {
   "cell_type": "code",
   "execution_count": null,
   "metadata": {},
   "outputs": [],
   "source": [
    "\"\"\"\n",
    "This is a worked example. This code is starter code; you should edit and run it to \n",
    "solve the problem. You can click the blue show solution button on the left to see \n",
    "the answer if you get too stuck or want to check your work!\n",
    "\n",
    "Note: The starter code for this example is the solution.\n",
    "\"\"\"\n",
    "\n",
    "\"\"\"\n",
    "An example program with constants\n",
    "\"\"\"\n",
    "\n",
    "INCHES_IN_FOOT = 12  # Conversion factor. There are 12 inches for 1 foot.\n",
    "\n",
    "def main():\n",
    "    # Prompt the user to enter the length in feet\n",
    "    feet = float(input(\"Enter number of feet:  \"))\n",
    "\n",
    "    # Convert feet to inches\n",
    "    inches = feet * 12\n",
    "\n",
    "    # Print the converted length\n",
    "    print(f\"That is {inches} inches!\")\n",
    "\n",
    "    \n",
    "    \n",
    "# This provided line is required at the end of a Python file\n",
    "# to call the main() function.\n",
    "if __name__ == '__main__':\n",
    "    main()"
   ]
  },
  {
   "cell_type": "code",
   "execution_count": null,
   "metadata": {},
   "outputs": [],
   "source": [
    "\"\"\"\n",
    "This is a worked example. This code is starter code; you should edit and run it to \n",
    "solve the problem. You can click the blue show solution button on the left to see \n",
    "the answer if you get too stuck or want to check your work!\n",
    "\n",
    "Note: The starter code for this example is the solution\n",
    "\"\"\"\n",
    "\n",
    "\"\"\"\n",
    "This program computes square roots\n",
    "\"\"\"\n",
    "\n",
    "import math  # Imports the math library so we can use math.sqrt()\n",
    "\n",
    "def main():\n",
    "    num = float(input(\"Enter number: \"))  # Make sure to cast the user's input to a float!\n",
    "    root = math.sqrt(num)  # Get the square root of the user's input and store it in a variable\n",
    "    print(\"Square root of\", num, \"is\", root)\n",
    "    \n",
    "# This provided line is required at the end of a Python file\n",
    "# to call the main() function.\n",
    "if __name__ == '__main__':\n",
    "    main()"
   ]
  },
  {
   "cell_type": "code",
   "execution_count": null,
   "metadata": {},
   "outputs": [],
   "source": [
    "\"\"\"\n",
    "File: rolldice.py\n",
    "------------------\n",
    "Simulate rolling two dice, and prints results of each\n",
    "roll as well as the total.\n",
    "\"\"\"\n",
    "\n",
    "\"\"\"\n",
    "This is a worked example. This code is starter code; you should edit and run it to \n",
    "solve the problem. You can click the blue show solution button on the left to see \n",
    "the answer if you get too stuck or want to check your work!\n",
    "\n",
    "Note: The starter code for this example is the solution.\n",
    "\"\"\"\n",
    "\n",
    "# Import the random library which lets us simulate random things like dice!\n",
    "import random\n",
    "\n",
    "# Number of sides on each die to roll\n",
    "NUM_SIDES = 6\n",
    "\n",
    "def main():\n",
    "    # Setting a seed is useful for debugging (uncomment the line below to do so!)\n",
    "    # random.seed(1)\n",
    "    \n",
    "    # Roll die\n",
    "    die1 = random.randint(1, NUM_SIDES)\n",
    "    die2 = random.randint(1, NUM_SIDES)\n",
    "    \n",
    "    # Get their total\n",
    "    total = die1 + die2\n",
    "    \n",
    "    # Print out the results\n",
    "    print(\"Dice have\", NUM_SIDES, \"sides each.\")\n",
    "    print(\"First die:\", die1)\n",
    "    print(\"Second die:\", die2)\n",
    "    print(\"Total of two dice:\", total)\n",
    "\n",
    "\n",
    "# This provided line is required at the end of a Python file\n",
    "# to call the main() function.\n",
    "if __name__ == '__main__':\n",
    "    main()"
   ]
  },
  {
   "cell_type": "code",
   "execution_count": null,
   "metadata": {},
   "outputs": [],
   "source": [
    "Simulate rolling two dice, three times.  Prints the results of each die roll.  This program is used to show how variable scope works.\n",
    "\"\"\"\n",
    "File: dicesimulator.py\n",
    "----------------------\n",
    "Simulate rolling two dice, three times.  Prints\n",
    "the results of each die roll.  This program is used\n",
    "to show how variable scope works.\n",
    "\"\"\"\n",
    "\n",
    "\"\"\"\n",
    "This is a worked example. This code is starter code; you should edit and run it to \n",
    "solve the problem. You can click the blue show solution button on the left to see \n",
    "the answer if you get too stuck or want to check your work!\n",
    "\n",
    "Note: The starter code for this example is the solution.\n",
    "\"\"\"\n",
    "\n",
    "# Import the random library which lets us simulate random things like dice!\n",
    "import random\n",
    "\n",
    "# Number of sides on each die to roll\n",
    "NUM_SIDES = 6\n",
    "\n",
    "def roll_dice():\n",
    "    \"\"\"\n",
    "    Simulates rolling two dice and prints their total\n",
    "    \"\"\"\n",
    "    die1 = random.randint(1, NUM_SIDES)\n",
    "    die2 = random.randint(1, NUM_SIDES)\n",
    "    total = die1 + die2\n",
    "    print(\"Total of two dice:\", total)\n",
    "\n",
    "def main():\n",
    "    # Set a seed to help with debugging (you can comment it out to make the results random!)\n",
    "    random.seed(1)\n",
    "    \n",
    "    die1 = 10\n",
    "    print(\"die1 in main() starts as: \" + str(die1))\n",
    "    roll_dice()\n",
    "    roll_dice()\n",
    "    roll_dice()\n",
    "    print(\"die1 in main() is: \" + str(die1))\n",
    "\n",
    "# This provided line is required at the end of a Python file\n",
    "# to call the main() function.\n",
    "if __name__ == '__main__':\n",
    "    main()"
   ]
  },
  {
   "cell_type": "code",
   "execution_count": null,
   "metadata": {},
   "outputs": [],
   "source": [
    "# Ask the user for the first number\n",
    "numerator = int(input(\"Please enter an integer to be divided: \"))\n",
    "\n",
    "# Ask the user for the second number\n",
    "denominator = int(input(\"Please enter an integer to divide by: \"))\n",
    "\n",
    "# Perform division and get the quotient and remainder\n",
    "quotient = numerator // denominator\n",
    "remainder = numerator % denominator\n",
    "\n",
    "# Print the result\n",
    "print(\"The result of this division is\", quotient, \"with a remainder of\", remainder)\n"
   ]
  },
  {
   "cell_type": "code",
   "execution_count": null,
   "metadata": {},
   "outputs": [],
   "source": [
    "Ask the user for two numbers, one at a time, and then print the result of dividing the first number by the second and also the remainder of the division. \n",
    "\n",
    "Here's a sample run of the program (user input is in bold italics):\n",
    "\n",
    "Please enter an integer to be divided: 5\n",
    "\n",
    "Please enter an integer to divide by: 3\n",
    "\n",
    "The result of this division is 1 with a remainder of 2\n",
    "\n",
    "# solution\n",
    "\"\"\"\n",
    "This is a worked example. This code is starter code; you should edit and run it to \n",
    "solve the problem. You can click the blue show solution button on the left to see \n",
    "the answer if you get too stuck or want to check your work!\n",
    "\"\"\"\n",
    "\n",
    "def main():\n",
    "    numerator = int(input(\"Please enter an integer to be divided: \"))\n",
    "    denominator =  int(input(\"Please enter an integer to divide by: \"))\n",
    "    quotient = numerator // denominator\n",
    "    remainder = numerator % denominator\n",
    "    print(f\"The result of this division is {quotient} with a remainder of {remainder}\")\n",
    "if __name__ == '__main__':\n",
    "    main()"
   ]
  },
  {
   "cell_type": "code",
   "execution_count": null,
   "metadata": {},
   "outputs": [],
   "source": [
    "def main():\n",
    "    # Get the numbers we want to divide\n",
    "    dividend = int(input(\"Please enter an integer to be divided: \"))\n",
    "    divisor = int(input(\"Please enter an integer to divide by: \"))\n",
    "\n",
    "    quotient = dividend // divisor  # Divide with no remainder/decimals (integer division)\n",
    "    remainder = dividend % divisor  # Get the remainder of the division (modulo)\n",
    "    \n",
    "    print(\"The result of this division is \" + str(quotient) + \" with a remainder of \" + str(remainder))\n",
    "\n",
    "\n",
    "# There is no need to edit code beyond this point\n",
    "\n",
    "if __name__ == '__main__':\n",
    "    main()"
   ]
  },
  {
   "cell_type": "code",
   "execution_count": null,
   "metadata": {},
   "outputs": [],
   "source": [
    "Use Python to calculate the number of seconds in a year, and tell the user what the result is in a nice print statement that looks like this (of course the value 5 should be the calculated number instead):\n",
    "\n",
    "There are 5 seconds in a year!\n",
    "\n",
    "You should use constants for this exercise -- there are 365 days in a year, 24 hours in a day, 60 minutes in an hour, and 60 seconds per minute.\n",
    "\n",
    "# solution\n",
    "\"\"\"\n",
    "This is a worked example. This code is starter code; you should edit and run it to \n",
    "solve the problem. You can click the blue show solution button on the left to see \n",
    "the answer if you get too stuck or want to check your work!\n",
    "\"\"\"\n",
    "\n",
    "def main():\n",
    "    # Constants\n",
    "    SECONDS_IN_MINUTE = 60\n",
    "    MINUTES_IN_HOUR = 60\n",
    "    HOURS_IN_DAY = 24\n",
    "    DAYS_IN_YEAR = 365\n",
    "\n",
    "\n",
    "    # Calculate the number of seconds in a year\n",
    "    seconds_in_year = DAYS_IN_YEAR * HOURS_IN_DAY * MINUTES_IN_HOUR * SECONDS_IN_MINUTE\n",
    "\n",
    "    # Print the result\n",
    "    print(\"There are\", seconds_in_year, \"seconds in a year!\")\n",
    "    \n",
    "    \n",
    "# There is no need to edit code beyond this point\n",
    "\n",
    "if __name__ == '__main__':\n",
    "    main()"
   ]
  },
  {
   "cell_type": "code",
   "execution_count": null,
   "metadata": {},
   "outputs": [],
   "source": [
    "Write a program which prompts the user for an adjective, then a noun, then a verb, and then prints a fun sentence with those words!\n",
    "\n",
    "Mad Libs is a word game where players are prompted for one word at a time, and the words are eventually filled into the blanks of a word template to make an entertaining story! We've provided you with the beginning of a sentence (the SENTENCE_START constant) which will end in a user-inputted adjective, noun, and then verb.\n",
    "\n",
    "Here's a sample run (user input is in bold italics):\n",
    "\n",
    "Please type an adjective and press enter. tiny \n",
    "\n",
    "Please type a noun and press enter. plant \n",
    "\n",
    "Please type a verb and press enter. fly \n",
    "\n",
    "Code in Place is fun. I learned to program and used Python to make my tiny plant fly!\n",
    "\n"
   ]
  },
  {
   "cell_type": "code",
   "execution_count": 1,
   "metadata": {},
   "outputs": [
    {
     "name": "stdout",
     "output_type": "stream",
     "text": [
      "Code in Place is fun. I learned to program and used Python to make my justify adams dance!\n"
     ]
    }
   ],
   "source": [
    "# solution\n",
    "# Constants\n",
    "SENTENCE_START = \"Code in Place is fun. I learned to program and used Python to make my\"\n",
    "\n",
    "# Prompt the user for an adjective\n",
    "adjective = input(\"Please type an adjective and press enter: \")\n",
    "\n",
    "# Prompt the user for a noun\n",
    "noun = input(\"Please type a noun and press enter: \")\n",
    "\n",
    "# Prompt the user for a verb\n",
    "verb = input(\"Please type a verb and press enter: \")\n",
    "\n",
    "# Print the fun sentence\n",
    "print(SENTENCE_START, adjective, noun, verb + \"!\")\n"
   ]
  },
  {
   "cell_type": "code",
   "execution_count": null,
   "metadata": {},
   "outputs": [],
   "source": [
    "\"\"\"\n",
    "This is a worked example. This code is starter code; you should edit and run it to \n",
    "solve the problem. You can click the blue show solution button on the left to see \n",
    "the answer if you get too stuck or want to check your work!\n",
    "\"\"\"\n",
    "\n",
    "SENTENCE_START = \"Code in Place is fun. I learned to program and used Python to make my \" # adjective noun verb\n",
    "\n",
    "\n",
    "def main():\n",
    "    \n",
    "    # Prompt the user for an adjective\n",
    "    adjective = input(\"Please type an adjective and press enter: \")\n",
    "\n",
    "    # Prompt the user for a noun\n",
    "    noun = input(\"Please type a noun and press enter: \")\n",
    "\n",
    "    # Prompt the user for a verb\n",
    "    verb = input(\"Please type a verb and press enter: \")\n",
    "\n",
    "    # Print the fun sentence\n",
    "    print(SENTENCE_START, adjective, noun, verb + \"!\")\n",
    "\n",
    "\n",
    "# There is no need to edit code beyond this point\n",
    "\n",
    "if __name__ == '__main__':\n",
    "    main()"
   ]
  },
  {
   "cell_type": "code",
   "execution_count": null,
   "metadata": {},
   "outputs": [],
   "source": [
    "SENTENCE_START = \"Code in Place is fun. I learned to program and used Python to make my \" # adjective noun verb\n",
    "\n",
    "def main():\n",
    "    # Get the three inputs from the user to make the adlib\n",
    "    adjective = input(\"Please type an adjective and press enter. \")\n",
    "    noun = input(\"Please type a noun and press enter. \")\n",
    "    verb = input(\"Please type a verb and press enter. \")\n",
    "\n",
    "    # Join the inputs together with the sentence starter\n",
    "    print(SENTENCE_START + adjective + \" \" + noun + \" \" + verb + \"!\")\n",
    "\n",
    "\n",
    "# There is no need to edit code beyond this point\n",
    "\n",
    "if __name__ == '__main__':\n",
    "    main()"
   ]
  },
  {
   "cell_type": "code",
   "execution_count": null,
   "metadata": {},
   "outputs": [],
   "source": [
    "SENTENCE_START = \"Code in Place is fun. I learned to program and used Python to make my \" # adjective noun verb\n",
    "\n",
    "def main():\n",
    "    # Get the three inputs from the user to make the adlib\n",
    "    adjective = input(\"Please type an adjective and press enter. \")\n",
    "    noun = input(\"Please type a noun and press enter. \")\n",
    "    verb = input(\"Please type a verb and press enter. \")\n",
    "\n",
    "    # Join the inputs together with the sentence starter\n",
    "    print(SENTENCE_START + adjective + \" \" + noun + \" \" + verb + \"!\")\n",
    "\n",
    "\n",
    "# There is no need to edit code beyond this point\n",
    "\n",
    "if __name__ == '__main__':\n",
    "    main()"
   ]
  },
  {
   "cell_type": "code",
   "execution_count": null,
   "metadata": {},
   "outputs": [],
   "source": [
    "Write a program that continually reads in mass from the user and then outputs the equivalent energy using Einstein's mass-energy equivalence formula (E stands for energy, m stands for mass, and C is the speed of light:\n",
    "\n",
    "E = m * c**2\n",
    "\n",
    "Almost 100 years ago, Albert Einstein famously discovered that mass and energy are interchangeable and are related by the above equation. You should ask the user for mass (m) in kilograms and use a constant value for the speed of light -- C = 299792458 m/s.\n",
    "\n",
    "Here's a sample run of the program (user input is in bold italics):\n",
    "\n",
    "Enter kilos of mass: 100 \n",
    "\n",
    "e = m * C^2... \n",
    "\n",
    "m = 100.0 kg \n",
    "\n",
    "C = 299792458 m/s \n",
    "\n",
    "8.987551787368176e+18 joules of energy!"
   ]
  },
  {
   "cell_type": "code",
   "execution_count": null,
   "metadata": {},
   "outputs": [],
   "source": [
    "# Constant for the speed of light\n",
    "SPEED_OF_LIGHT = 299792458  # meters per second\n",
    "\n",
    "# Prompt the user for mass in kilograms\n",
    "mass_kg = float(input(\"Enter kilos of mass: \"))\n",
    "\n",
    "# Calculate energy using Einstein's mass-energy equivalence formula\n",
    "energy_joules = mass_kg * SPEED_OF_LIGHT ** 2\n",
    "\n",
    "# Print the result\n",
    "print(\"e = m * C^2...\")\n",
    "print(\"m = {:.1f} kg\".format(mass_kg))\n",
    "print(\"C = {} m/s\".format(SPEED_OF_LIGHT))\n",
    "print(\"{:.15e} joules of energy!\".format(energy_joules))\n"
   ]
  },
  {
   "cell_type": "code",
   "execution_count": null,
   "metadata": {},
   "outputs": [],
   "source": [
    "# solution\n",
    "C = 299792458  # The speed of light in m/s\n",
    "\n",
    "def main():\n",
    "    mass_in_kg = float(input(\"Enter kilos of mass: \"))\n",
    "\n",
    "    # Calculate energy\n",
    "    # equivalently energy = mass * (C ** 2)\n",
    "    # using the ** operator to raise C to the power of 2\n",
    "    energy_in_joules = mass_in_kg * (C ** 2)\n",
    "\n",
    "    # Display work to the user\n",
    "    print(\"e = m * C^2...\")\n",
    "    print(\"m = \" + str(mass_in_kg) + \" kg\")\n",
    "    print(\"C = \" + str(C) + \" m/s\")\n",
    "    print(str(energy_in_joules) + \" joules of energy!\")\n",
    "\n",
    "\n",
    "# There is no need to edit code beyond this point\n",
    "\n",
    "if __name__ == '__main__':\n",
    "    main()"
   ]
  },
  {
   "cell_type": "code",
   "execution_count": null,
   "metadata": {},
   "outputs": [],
   "source": [
    "Write a program that asks the user for the lengths of the two perpendicular sides of a right triangle and outputs the length of the third side (the hypotenuse) using the Pythagorean theorem!\n",
    "\n",
    "The Pythagorean theorem, named after the ancient Greek thinker, Pythagoras, is a fundamental relation in geometry. It states that in a right triangle, the square of the hypotenuse is equal to the sum of the square of the other two sides.\n",
    "\n",
    "For instance, let's consider a right triangle ABC, with the right angle located at C. According to the Pythagorean theorem:\n",
    "\n",
    "BC ** 2 = AB ** 2 + AC ** 2\n",
    "\n",
    "Your code should read in the lengths of the sides AB and AC, and that outputs the length of the hypotenuse (BC). You will probably find math.sqrt() to be useful.\n",
    "\n",
    "Here's a sample run of the program (user input is in bold italics):\n",
    "\n",
    "Enter the length of AB: 3 \n",
    "\n",
    "Enter the length of AC: 4 \n",
    "\n",
    "The length of BC (the hypotenuse) is: 5.0\n",
    "\n",
    "\"\"\"\n",
    "This is a worked example. This code is starter code; you should edit and run it to \n",
    "solve the problem. You can click the blue show solution button on the left to see \n",
    "the answer if you get too stuck or want to check your work!\n",
    "\"\"\"\n",
    "\n",
    "import math\n",
    "\n",
    "def main():\n",
    "    print(\"Delete this line and write your code here! :)\")\n",
    "\n",
    "\n",
    "# There is no need to edit code beyond this point\n",
    "\n",
    "if __name__ == '__main__':\n",
    "    main()"
   ]
  },
  {
   "cell_type": "code",
   "execution_count": null,
   "metadata": {},
   "outputs": [],
   "source": [
    "import math\n",
    "\n",
    "# Prompt the user for the lengths of the two perpendicular sides\n",
    "side_ab = float(input(\"Enter the length of AB: \"))\n",
    "side_ac = float(input(\"Enter the length of AC: \"))\n",
    "\n",
    "# Calculate the length of the hypotenuse using the Pythagorean theorem\n",
    "hypotenuse_bc = math.sqrt(side_ab ** 2 + side_ac ** 2)\n",
    "\n",
    "# Print the result\n",
    "print(\"The length of BC (the hypotenuse) is:\", hypotenuse_bc)\n"
   ]
  },
  {
   "cell_type": "code",
   "execution_count": null,
   "metadata": {},
   "outputs": [],
   "source": [
    "import math  # Import the math library so we can use the sqrt function\n",
    "\n",
    "def main():\n",
    "    # Get the two side lengths from the user and cast them to be numbers\n",
    "    ab = float(input(\"Enter the length of AB: \"))\n",
    "    ac = float(input(\"Enter the length of AC: \"))\n",
    "\n",
    "    # Calculate the hypotenuse using the two sides and print it out\n",
    "    bc = math.sqrt(ab**2 + ac**2)\n",
    "    print(\"The length of BC (the hypotenuse) is: \" + str(bc))\n",
    "\n",
    "\n",
    "# There is no need to edit code beyond this point\n",
    "\n",
    "if __name__ == '__main__':\n",
    "    main()"
   ]
  },
  {
   "cell_type": "code",
   "execution_count": null,
   "metadata": {},
   "outputs": [],
   "source": [
    "Practice\n",
    "Write a program which will flip a weighted coin.\n",
    "\n",
    "Coin flips are usually fair, but can be cheated -- a weighted coin is a coin where the probability of heads isn't 50%. Your code should use the random module to \"flip\" coin where the probability of heads is 70% and print the outcome (heads or tails).\n",
    "\n",
    "\"\"\"\n",
    "This is a worked example. This code is starter code; you should edit and run it to \n",
    "solve the problem. You can click the blue show solution button on the left to see \n",
    "the answer if you get too stuck or want to check your work!\n",
    "\"\"\"\n",
    "\n",
    "import random\n",
    "\n",
    "def main():\n",
    "    print(\"Delete this line and write your code here! :)\")\n",
    "\n",
    "\n",
    "# There is no need to edit code beyond this point\n",
    "\n",
    "if __name__ == '__main__':\n",
    "    main()"
   ]
  },
  {
   "cell_type": "code",
   "execution_count": null,
   "metadata": {},
   "outputs": [],
   "source": [
    "# solution\n",
    "import random\n",
    "\n",
    "HEADS_WEIGHT = 0.7 # 70%\n",
    "\n",
    "def main():\n",
    "    # Use random.random() to generate a decimal number from 0.0 to 1.0\n",
    "    # If the randomly generated number is less than 0.7 (the weight for heads), it's heads!\n",
    "    if random.random() < HEADS_WEIGHT:\n",
    "        print(\"Heads!\")\n",
    "    else:\n",
    "        print(\"Tails!\")\n",
    "\n",
    "\n",
    "# There is no need to edit code beyond this point\n",
    "\n",
    "if __name__ == '__main__':\n",
    "    main()"
   ]
  },
  {
   "cell_type": "code",
   "execution_count": null,
   "metadata": {},
   "outputs": [],
   "source": [
    "# gpt solution\n",
    "import random\n",
    "\n",
    "def weighted_coin_flip():\n",
    "    # Generate a random number between 0 and 1\n",
    "    flip_result = random.random()\n",
    "    \n",
    "    # If the random number is less than 0.7, consider it heads, otherwise tails\n",
    "    if flip_result < 0.7:\n",
    "        return \"Heads\"\n",
    "    else:\n",
    "        return \"Tails\"\n",
    "\n",
    "# Perform the weighted coin flip\n",
    "outcome = weighted_coin_flip()\n",
    "\n",
    "# Print the outcome\n",
    "print(\"The outcome of the weighted coin flip is:\", outcome)\n"
   ]
  },
  {
   "cell_type": "code",
   "execution_count": null,
   "metadata": {},
   "outputs": [],
   "source": []
  },
  {
   "cell_type": "code",
   "execution_count": null,
   "metadata": {},
   "outputs": [],
   "source": [
    "import random\n",
    "\n",
    "N_NUMBERS = 10\n",
    "MIN_VALUE = 1\n",
    "MAX_VALUE = 100\n",
    "\n",
    "def main():\n",
    "    \"\"\"\n",
    "    You should write your code here. Make sure to delete \n",
    "    the 'pass' line before starting to write your own code.\n",
    "    \"\"\"\n",
    "\n",
    "    for _ in range(N_NUMBERS):\n",
    "        value = random.randint(MIN_VALUE, MAX_VALUE)\n",
    "        print(value)\n",
    "\n",
    "if __name__ == '__main__':\n",
    "    main()"
   ]
  },
  {
   "cell_type": "code",
   "execution_count": null,
   "metadata": {},
   "outputs": [],
   "source": [
    "\"\"\"\n",
    "Program: Liftoff\n",
    "--------------------\n",
    "Countdown from 10 to 1 and then print Liftoff!\n",
    "\"\"\"\n",
    "\n",
    "def main():\n",
    "    Countdown =  10\n",
    "    for i in range(Countdown, 0, -1):\n",
    "        print(i)\n",
    "    print(\"Liftoff!\")\n",
    "\n",
    "# This provided line is required at the end of\n",
    "# Python file to call the main() function.\n",
    "if __name__ == '__main__':\n",
    "    main()\n",
    "\n",
    "\n",
    "import time\n",
    "\n",
    "# Define the countdown function\n",
    "def countdown(seconds):\n",
    "    for i in range(seconds, 0, -1):\n",
    "        print(f\"T-{i} seconds until liftoff!\")\n",
    "        time.sleep(1)\n",
    "    print(\"Liftoff!\")\n",
    "\n",
    "# Call the countdown function with 10 seconds\n",
    "countdown(10)\n",
    "\n",
    "\n",
    "Write a program that asks a user to enter a number. Your program will then double that number and print out the result. It will repeat that process until the value is 100 or greater.\n",
    "For example if the user enters the number 2 you would then print:\n",
    "\n",
    "\n",
    "\n",
    "\n",
    "Instructions\n",
    "Restart\n",
    "Write a program that asks a user to enter a number. Your program will then double that number and print out the result. It will repeat that process until the value is 100 or greater.\n",
    "\n",
    "For example if the user enters the number 2 you would then print:\n",
    "4 8 16 32 64 128\n",
    "\n",
    "Note that: \n",
    "2 doubled is 4\n",
    "4 doubled is 8\n",
    "8 doubled is 16\n",
    "and so on.\n",
    "We stop at 128 because that value is greater than 100.\n",
    "Maintain the current number in a variable named curr_value. When you double the number, you should be updating curr_value. Recall that you can double the value of curr_value using a line like:\n",
    "curr_value = curr_value * 2\n",
    "This program should have a while loop and the while loop condition should test if curr_value is less than 100. Thus, your program will have the line:\n",
    "while curr_value < 100:\n",
    "\n",
    "\n",
    "def main():\n",
    "    \"\"\"\n",
    "    You should write your code here. \n",
    "    \"\"\"\n",
    "    curr_value = int(input(\"Enter a number: \"))\n",
    "    \n",
    "    while curr_value < 100:\n",
    "        curr_value = curr_value * 2\n",
    "\n",
    "        print(curr_value)\n",
    "\n",
    "    \n",
    "\n",
    "if __name__ == '__main__':\n",
    "    main()\n"
   ]
  },
  {
   "cell_type": "code",
   "execution_count": null,
   "metadata": {},
   "outputs": [],
   "source": []
  },
  {
   "cell_type": "code",
   "execution_count": null,
   "metadata": {},
   "outputs": [],
   "source": []
  },
  {
   "cell_type": "code",
   "execution_count": null,
   "metadata": {},
   "outputs": [],
   "source": []
  },
  {
   "cell_type": "code",
   "execution_count": null,
   "metadata": {},
   "outputs": [],
   "source": []
  },
  {
   "cell_type": "code",
   "execution_count": null,
   "metadata": {},
   "outputs": [],
   "source": []
  },
  {
   "cell_type": "code",
   "execution_count": null,
   "metadata": {},
   "outputs": [],
   "source": []
  },
  {
   "cell_type": "code",
   "execution_count": null,
   "metadata": {},
   "outputs": [],
   "source": []
  },
  {
   "cell_type": "code",
   "execution_count": null,
   "metadata": {},
   "outputs": [],
   "source": []
  },
  {
   "cell_type": "code",
   "execution_count": null,
   "metadata": {},
   "outputs": [],
   "source": []
  },
  {
   "cell_type": "code",
   "execution_count": null,
   "metadata": {},
   "outputs": [],
   "source": []
  },
  {
   "cell_type": "code",
   "execution_count": null,
   "metadata": {},
   "outputs": [],
   "source": []
  },
  {
   "cell_type": "code",
   "execution_count": null,
   "metadata": {},
   "outputs": [],
   "source": []
  },
  {
   "cell_type": "code",
   "execution_count": null,
   "metadata": {},
   "outputs": [],
   "source": []
  },
  {
   "cell_type": "code",
   "execution_count": null,
   "metadata": {},
   "outputs": [],
   "source": []
  },
  {
   "cell_type": "code",
   "execution_count": null,
   "metadata": {},
   "outputs": [],
   "source": []
  },
  {
   "cell_type": "code",
   "execution_count": null,
   "metadata": {},
   "outputs": [],
   "source": []
  },
  {
   "cell_type": "code",
   "execution_count": null,
   "metadata": {},
   "outputs": [],
   "source": []
  },
  {
   "cell_type": "code",
   "execution_count": null,
   "metadata": {},
   "outputs": [],
   "source": []
  },
  {
   "cell_type": "code",
   "execution_count": null,
   "metadata": {},
   "outputs": [],
   "source": []
  },
  {
   "cell_type": "code",
   "execution_count": null,
   "metadata": {},
   "outputs": [],
   "source": []
  },
  {
   "cell_type": "code",
   "execution_count": null,
   "metadata": {},
   "outputs": [],
   "source": []
  },
  {
   "cell_type": "code",
   "execution_count": null,
   "metadata": {},
   "outputs": [],
   "source": []
  },
  {
   "cell_type": "code",
   "execution_count": null,
   "metadata": {},
   "outputs": [],
   "source": []
  },
  {
   "cell_type": "code",
   "execution_count": null,
   "metadata": {},
   "outputs": [],
   "source": []
  },
  {
   "cell_type": "code",
   "execution_count": null,
   "metadata": {},
   "outputs": [],
   "source": []
  },
  {
   "cell_type": "code",
   "execution_count": null,
   "metadata": {},
   "outputs": [],
   "source": []
  },
  {
   "cell_type": "code",
   "execution_count": null,
   "metadata": {},
   "outputs": [],
   "source": []
  },
  {
   "cell_type": "code",
   "execution_count": null,
   "metadata": {},
   "outputs": [],
   "source": []
  },
  {
   "cell_type": "code",
   "execution_count": null,
   "metadata": {},
   "outputs": [],
   "source": []
  },
  {
   "cell_type": "code",
   "execution_count": null,
   "metadata": {},
   "outputs": [],
   "source": []
  },
  {
   "cell_type": "code",
   "execution_count": null,
   "metadata": {},
   "outputs": [],
   "source": []
  },
  {
   "cell_type": "code",
   "execution_count": null,
   "metadata": {},
   "outputs": [],
   "source": []
  },
  {
   "cell_type": "code",
   "execution_count": null,
   "metadata": {},
   "outputs": [],
   "source": []
  },
  {
   "cell_type": "code",
   "execution_count": null,
   "metadata": {},
   "outputs": [],
   "source": []
  },
  {
   "cell_type": "code",
   "execution_count": null,
   "metadata": {},
   "outputs": [],
   "source": []
  },
  {
   "cell_type": "code",
   "execution_count": null,
   "metadata": {},
   "outputs": [],
   "source": []
  },
  {
   "cell_type": "code",
   "execution_count": null,
   "metadata": {},
   "outputs": [],
   "source": []
  },
  {
   "cell_type": "code",
   "execution_count": null,
   "metadata": {},
   "outputs": [],
   "source": []
  },
  {
   "cell_type": "code",
   "execution_count": null,
   "metadata": {},
   "outputs": [],
   "source": []
  },
  {
   "cell_type": "code",
   "execution_count": null,
   "metadata": {},
   "outputs": [],
   "source": []
  },
  {
   "cell_type": "code",
   "execution_count": null,
   "metadata": {},
   "outputs": [],
   "source": []
  },
  {
   "cell_type": "code",
   "execution_count": null,
   "metadata": {},
   "outputs": [],
   "source": []
  },
  {
   "cell_type": "code",
   "execution_count": null,
   "metadata": {},
   "outputs": [],
   "source": []
  },
  {
   "cell_type": "code",
   "execution_count": null,
   "metadata": {},
   "outputs": [],
   "source": []
  },
  {
   "cell_type": "code",
   "execution_count": null,
   "metadata": {},
   "outputs": [],
   "source": []
  },
  {
   "cell_type": "code",
   "execution_count": null,
   "metadata": {},
   "outputs": [],
   "source": []
  },
  {
   "cell_type": "code",
   "execution_count": null,
   "metadata": {},
   "outputs": [],
   "source": []
  },
  {
   "cell_type": "code",
   "execution_count": null,
   "metadata": {},
   "outputs": [],
   "source": []
  },
  {
   "cell_type": "code",
   "execution_count": null,
   "metadata": {},
   "outputs": [],
   "source": []
  },
  {
   "cell_type": "code",
   "execution_count": null,
   "metadata": {},
   "outputs": [],
   "source": []
  },
  {
   "cell_type": "code",
   "execution_count": null,
   "metadata": {},
   "outputs": [],
   "source": []
  },
  {
   "cell_type": "code",
   "execution_count": null,
   "metadata": {},
   "outputs": [],
   "source": []
  },
  {
   "cell_type": "code",
   "execution_count": null,
   "metadata": {},
   "outputs": [],
   "source": []
  },
  {
   "cell_type": "code",
   "execution_count": null,
   "metadata": {},
   "outputs": [],
   "source": []
  },
  {
   "cell_type": "code",
   "execution_count": null,
   "metadata": {},
   "outputs": [],
   "source": []
  },
  {
   "cell_type": "code",
   "execution_count": null,
   "metadata": {},
   "outputs": [],
   "source": []
  },
  {
   "cell_type": "code",
   "execution_count": null,
   "metadata": {},
   "outputs": [],
   "source": []
  },
  {
   "cell_type": "code",
   "execution_count": null,
   "metadata": {},
   "outputs": [],
   "source": []
  },
  {
   "cell_type": "code",
   "execution_count": null,
   "metadata": {},
   "outputs": [],
   "source": []
  },
  {
   "cell_type": "code",
   "execution_count": null,
   "metadata": {},
   "outputs": [],
   "source": []
  },
  {
   "cell_type": "code",
   "execution_count": null,
   "metadata": {},
   "outputs": [],
   "source": []
  },
  {
   "cell_type": "code",
   "execution_count": null,
   "metadata": {},
   "outputs": [],
   "source": []
  },
  {
   "cell_type": "code",
   "execution_count": null,
   "metadata": {},
   "outputs": [],
   "source": []
  },
  {
   "cell_type": "code",
   "execution_count": null,
   "metadata": {},
   "outputs": [],
   "source": []
  },
  {
   "cell_type": "code",
   "execution_count": null,
   "metadata": {},
   "outputs": [],
   "source": []
  },
  {
   "cell_type": "code",
   "execution_count": null,
   "metadata": {},
   "outputs": [],
   "source": []
  },
  {
   "cell_type": "code",
   "execution_count": null,
   "metadata": {},
   "outputs": [],
   "source": []
  },
  {
   "cell_type": "code",
   "execution_count": null,
   "metadata": {},
   "outputs": [],
   "source": []
  },
  {
   "cell_type": "code",
   "execution_count": null,
   "metadata": {},
   "outputs": [],
   "source": []
  },
  {
   "cell_type": "code",
   "execution_count": null,
   "metadata": {},
   "outputs": [],
   "source": []
  },
  {
   "cell_type": "code",
   "execution_count": null,
   "metadata": {},
   "outputs": [],
   "source": []
  },
  {
   "cell_type": "code",
   "execution_count": null,
   "metadata": {},
   "outputs": [],
   "source": []
  },
  {
   "cell_type": "code",
   "execution_count": null,
   "metadata": {},
   "outputs": [],
   "source": []
  },
  {
   "cell_type": "code",
   "execution_count": null,
   "metadata": {},
   "outputs": [],
   "source": []
  },
  {
   "cell_type": "code",
   "execution_count": null,
   "metadata": {},
   "outputs": [],
   "source": []
  },
  {
   "cell_type": "code",
   "execution_count": null,
   "metadata": {},
   "outputs": [],
   "source": []
  },
  {
   "cell_type": "code",
   "execution_count": null,
   "metadata": {},
   "outputs": [],
   "source": []
  },
  {
   "cell_type": "code",
   "execution_count": null,
   "metadata": {},
   "outputs": [],
   "source": []
  },
  {
   "cell_type": "code",
   "execution_count": null,
   "metadata": {},
   "outputs": [],
   "source": []
  },
  {
   "cell_type": "code",
   "execution_count": null,
   "metadata": {},
   "outputs": [],
   "source": []
  },
  {
   "cell_type": "code",
   "execution_count": null,
   "metadata": {},
   "outputs": [],
   "source": []
  },
  {
   "cell_type": "code",
   "execution_count": null,
   "metadata": {},
   "outputs": [],
   "source": []
  },
  {
   "cell_type": "code",
   "execution_count": null,
   "metadata": {},
   "outputs": [],
   "source": []
  },
  {
   "cell_type": "code",
   "execution_count": null,
   "metadata": {},
   "outputs": [],
   "source": []
  },
  {
   "cell_type": "code",
   "execution_count": null,
   "metadata": {},
   "outputs": [],
   "source": []
  },
  {
   "cell_type": "code",
   "execution_count": null,
   "metadata": {},
   "outputs": [],
   "source": []
  },
  {
   "cell_type": "code",
   "execution_count": null,
   "metadata": {},
   "outputs": [],
   "source": []
  },
  {
   "cell_type": "code",
   "execution_count": null,
   "metadata": {},
   "outputs": [],
   "source": []
  },
  {
   "cell_type": "code",
   "execution_count": null,
   "metadata": {},
   "outputs": [],
   "source": []
  },
  {
   "cell_type": "code",
   "execution_count": null,
   "metadata": {},
   "outputs": [],
   "source": []
  },
  {
   "cell_type": "code",
   "execution_count": null,
   "metadata": {},
   "outputs": [],
   "source": []
  },
  {
   "cell_type": "code",
   "execution_count": null,
   "metadata": {},
   "outputs": [],
   "source": []
  },
  {
   "cell_type": "code",
   "execution_count": null,
   "metadata": {},
   "outputs": [],
   "source": []
  },
  {
   "cell_type": "code",
   "execution_count": null,
   "metadata": {},
   "outputs": [],
   "source": []
  },
  {
   "cell_type": "code",
   "execution_count": null,
   "metadata": {},
   "outputs": [],
   "source": []
  },
  {
   "cell_type": "code",
   "execution_count": null,
   "metadata": {},
   "outputs": [],
   "source": []
  },
  {
   "cell_type": "code",
   "execution_count": null,
   "metadata": {},
   "outputs": [],
   "source": []
  },
  {
   "cell_type": "code",
   "execution_count": null,
   "metadata": {},
   "outputs": [],
   "source": []
  },
  {
   "cell_type": "code",
   "execution_count": null,
   "metadata": {},
   "outputs": [],
   "source": []
  },
  {
   "cell_type": "code",
   "execution_count": null,
   "metadata": {},
   "outputs": [],
   "source": []
  },
  {
   "cell_type": "code",
   "execution_count": null,
   "metadata": {},
   "outputs": [],
   "source": []
  },
  {
   "cell_type": "code",
   "execution_count": null,
   "metadata": {},
   "outputs": [],
   "source": []
  },
  {
   "cell_type": "code",
   "execution_count": null,
   "metadata": {},
   "outputs": [],
   "source": []
  },
  {
   "cell_type": "code",
   "execution_count": null,
   "metadata": {},
   "outputs": [],
   "source": []
  },
  {
   "cell_type": "code",
   "execution_count": null,
   "metadata": {},
   "outputs": [],
   "source": []
  },
  {
   "cell_type": "code",
   "execution_count": null,
   "metadata": {},
   "outputs": [],
   "source": []
  },
  {
   "cell_type": "code",
   "execution_count": null,
   "metadata": {},
   "outputs": [],
   "source": []
  },
  {
   "cell_type": "code",
   "execution_count": null,
   "metadata": {},
   "outputs": [],
   "source": []
  },
  {
   "cell_type": "code",
   "execution_count": null,
   "metadata": {},
   "outputs": [],
   "source": []
  },
  {
   "cell_type": "code",
   "execution_count": null,
   "metadata": {},
   "outputs": [],
   "source": []
  },
  {
   "cell_type": "code",
   "execution_count": null,
   "metadata": {},
   "outputs": [],
   "source": []
  },
  {
   "cell_type": "code",
   "execution_count": null,
   "metadata": {},
   "outputs": [],
   "source": []
  },
  {
   "cell_type": "code",
   "execution_count": null,
   "metadata": {},
   "outputs": [],
   "source": []
  },
  {
   "cell_type": "code",
   "execution_count": null,
   "metadata": {},
   "outputs": [],
   "source": []
  },
  {
   "cell_type": "code",
   "execution_count": null,
   "metadata": {},
   "outputs": [],
   "source": []
  },
  {
   "cell_type": "code",
   "execution_count": null,
   "metadata": {},
   "outputs": [],
   "source": []
  },
  {
   "cell_type": "code",
   "execution_count": null,
   "metadata": {},
   "outputs": [],
   "source": []
  },
  {
   "cell_type": "code",
   "execution_count": null,
   "metadata": {},
   "outputs": [],
   "source": []
  },
  {
   "cell_type": "code",
   "execution_count": null,
   "metadata": {},
   "outputs": [],
   "source": []
  },
  {
   "cell_type": "code",
   "execution_count": null,
   "metadata": {},
   "outputs": [],
   "source": []
  },
  {
   "cell_type": "code",
   "execution_count": null,
   "metadata": {},
   "outputs": [],
   "source": []
  },
  {
   "cell_type": "code",
   "execution_count": null,
   "metadata": {},
   "outputs": [],
   "source": []
  },
  {
   "cell_type": "code",
   "execution_count": null,
   "metadata": {},
   "outputs": [],
   "source": []
  },
  {
   "cell_type": "code",
   "execution_count": null,
   "metadata": {},
   "outputs": [],
   "source": []
  },
  {
   "cell_type": "code",
   "execution_count": null,
   "metadata": {},
   "outputs": [],
   "source": []
  },
  {
   "cell_type": "code",
   "execution_count": null,
   "metadata": {},
   "outputs": [],
   "source": []
  },
  {
   "cell_type": "code",
   "execution_count": null,
   "metadata": {},
   "outputs": [],
   "source": []
  },
  {
   "cell_type": "code",
   "execution_count": null,
   "metadata": {},
   "outputs": [],
   "source": []
  },
  {
   "cell_type": "code",
   "execution_count": null,
   "metadata": {},
   "outputs": [],
   "source": []
  },
  {
   "cell_type": "code",
   "execution_count": null,
   "metadata": {},
   "outputs": [],
   "source": []
  },
  {
   "cell_type": "code",
   "execution_count": null,
   "metadata": {},
   "outputs": [],
   "source": []
  },
  {
   "cell_type": "code",
   "execution_count": null,
   "metadata": {},
   "outputs": [],
   "source": []
  },
  {
   "cell_type": "code",
   "execution_count": null,
   "metadata": {},
   "outputs": [],
   "source": []
  },
  {
   "cell_type": "code",
   "execution_count": null,
   "metadata": {},
   "outputs": [],
   "source": []
  },
  {
   "cell_type": "code",
   "execution_count": null,
   "metadata": {},
   "outputs": [],
   "source": []
  },
  {
   "cell_type": "code",
   "execution_count": null,
   "metadata": {},
   "outputs": [],
   "source": []
  },
  {
   "cell_type": "code",
   "execution_count": null,
   "metadata": {},
   "outputs": [],
   "source": []
  },
  {
   "cell_type": "code",
   "execution_count": null,
   "metadata": {},
   "outputs": [],
   "source": []
  },
  {
   "cell_type": "code",
   "execution_count": null,
   "metadata": {},
   "outputs": [],
   "source": []
  },
  {
   "cell_type": "code",
   "execution_count": null,
   "metadata": {},
   "outputs": [],
   "source": []
  },
  {
   "cell_type": "code",
   "execution_count": null,
   "metadata": {},
   "outputs": [],
   "source": []
  },
  {
   "cell_type": "code",
   "execution_count": null,
   "metadata": {},
   "outputs": [],
   "source": []
  },
  {
   "cell_type": "code",
   "execution_count": null,
   "metadata": {},
   "outputs": [],
   "source": []
  },
  {
   "cell_type": "code",
   "execution_count": null,
   "metadata": {},
   "outputs": [],
   "source": []
  },
  {
   "cell_type": "code",
   "execution_count": null,
   "metadata": {},
   "outputs": [],
   "source": []
  },
  {
   "cell_type": "code",
   "execution_count": null,
   "metadata": {},
   "outputs": [],
   "source": []
  },
  {
   "cell_type": "code",
   "execution_count": null,
   "metadata": {},
   "outputs": [],
   "source": []
  },
  {
   "cell_type": "code",
   "execution_count": null,
   "metadata": {},
   "outputs": [],
   "source": []
  },
  {
   "cell_type": "code",
   "execution_count": null,
   "metadata": {},
   "outputs": [],
   "source": []
  },
  {
   "cell_type": "code",
   "execution_count": null,
   "metadata": {},
   "outputs": [],
   "source": []
  },
  {
   "cell_type": "code",
   "execution_count": null,
   "metadata": {},
   "outputs": [],
   "source": []
  },
  {
   "cell_type": "code",
   "execution_count": null,
   "metadata": {},
   "outputs": [],
   "source": []
  },
  {
   "cell_type": "code",
   "execution_count": null,
   "metadata": {},
   "outputs": [],
   "source": []
  },
  {
   "cell_type": "code",
   "execution_count": null,
   "metadata": {},
   "outputs": [],
   "source": []
  },
  {
   "cell_type": "code",
   "execution_count": null,
   "metadata": {},
   "outputs": [],
   "source": []
  },
  {
   "cell_type": "code",
   "execution_count": null,
   "metadata": {},
   "outputs": [],
   "source": []
  }
 ],
 "metadata": {
  "kernelspec": {
   "display_name": "Python 3",
   "language": "python",
   "name": "python3"
  },
  "language_info": {
   "codemirror_mode": {
    "name": "ipython",
    "version": 3
   },
   "file_extension": ".py",
   "mimetype": "text/x-python",
   "name": "python",
   "nbconvert_exporter": "python",
   "pygments_lexer": "ipython3",
   "version": "3.11.3"
  }
 },
 "nbformat": 4,
 "nbformat_minor": 2
}
