{
 "cells": [
  {
   "cell_type": "code",
   "execution_count": null,
   "metadata": {},
   "outputs": [],
   "source": [
    "from graphics import Canvas\n",
    "    \n",
    "CANVAS_WIDTH = 400\n",
    "CANVAS_HEIGHT = 300\n",
    "\n",
    "def main():\n",
    "    canvas = Canvas(CANVAS_WIDTH, CANVAS_HEIGHT)\n",
    "    # TODO: your code here!\n",
    "    draw_japan_flag(canvas)\n",
    "    canvas.wait_for_click()\n",
    "    draw_bangladish_flag(canvas)\n",
    "    canvas.wait_for_click()\n",
    "    draw_pulau_flag(canvas)\n",
    "\n",
    "def draw_japan_flag(canvas):\n",
    "    draw_circle(canvas, CANVAS_WIDTH/2, CANVAS_HEIGHT/2, 120, 'red')\n",
    "\n",
    "def draw_bangladish_flag(canvas):\n",
    "    canvas.create_rectangle(0,0, CANVAS_WIDTH, CANVAS_HEIGHT, 'darkgreen')\n",
    "    draw_circle(canvas, CANVAS_WIDTH * 0.4, CANVAS_HEIGHT/2, 150, 'red')\n",
    "\n",
    "def draw_pulau_flag(canvas):\n",
    "    canvas.create_rectangle(0,0, CANVAS_WIDTH, CANVAS_HEIGHT, 'dodgerblue')\n",
    "    draw_circle(canvas, CANVAS_WIDTH * 0.4, CANVAS_HEIGHT/2, 150, 'yellow')\n",
    "\n",
    "def draw_circle(canvas, center_x, center_y, size, color):\n",
    "    left_x = center_x - size/2\n",
    "    top_y = center_y - size/2\n",
    "    right_x = left_x + size\n",
    "    bottom_y = top_y + size\n",
    "    canvas.create_oval(left_x, top_y, right_x, bottom_y, color)\n",
    "\n",
    "if __name__ == '__main__':\n",
    "    main()"
   ]
  }
 ],
 "metadata": {
  "language_info": {
   "name": "python"
  }
 },
 "nbformat": 4,
 "nbformat_minor": 2
}
