{
 "cells": [
  {
   "cell_type": "code",
   "execution_count": 1,
   "metadata": {},
   "outputs": [
    {
     "name": "stdout",
     "output_type": "stream",
     "text": [
      "Your roll is 7\n"
     ]
    }
   ],
   "source": [
    "import random\n",
    "\n",
    "# rolling dice\n",
    "def roll_dice(num_sides):\n",
    "    roll = random.randint(1, num_sides)\n",
    "    return roll\n",
    "\n",
    "def main():\n",
    "    num_sides = int(input(\"How many sides does your dice have? \"))\n",
    "    roll_result = roll_dice(num_sides)\n",
    "    print(\"Your roll is\", roll_result)\n",
    "\n",
    "if __name__ == \"__main__\":\n",
    "    main()\n"
   ]
  },
  {
   "cell_type": "code",
   "execution_count": 3,
   "metadata": {},
   "outputs": [
    {
     "name": "stdout",
     "output_type": "stream",
     "text": [
      "That's 71.8 in dog years!\n"
     ]
    }
   ],
   "source": [
    "# dog years\n",
    "def human_to_dog_years(human_years):\n",
    "    dog_years = human_years * 7.18\n",
    "    return dog_years\n",
    "\n",
    "def main():\n",
    "    human_age = int(input(\"Enter an age in calendar years: \"))\n",
    "    dog_age = human_to_dog_years(human_age)\n",
    "    print(\"That's\", dog_age, \"in dog years!\")\n",
    "\n",
    "if __name__ == \"__main__\":\n",
    "    main()\n"
   ]
  },
  {
   "cell_type": "code",
   "execution_count": 4,
   "metadata": {},
   "outputs": [
    {
     "name": "stdout",
     "output_type": "stream",
     "text": [
      "That's 71.8 in dog years!\n"
     ]
    }
   ],
   "source": [
    "def human_to_dog_yrs(yrs_in_human):\n",
    "    # Each year for a human is like 7.18 years for a dog\n",
    "    DOG_YRS_MULTIPLIER = 7.18\n",
    "    dog_yrs = yrs_in_human * DOG_YRS_MULTIPLIER\n",
    "    return dog_yrs  \n",
    "\n",
    "def main():\n",
    "    age_in_human = int(input(\"Enter an age in calender years \"))\n",
    "    age_in_dog = human_to_dog_yrs(age_in_human)\n",
    "    print(f\"That's {age_in_dog} in dog years!\")\n",
    "\n",
    "\n",
    "# There is no need to edit code beyond this point\n",
    "if __name__ == '__main__':\n",
    "    main()"
   ]
  },
  {
   "cell_type": "code",
   "execution_count": 5,
   "metadata": {},
   "outputs": [
    {
     "name": "stdout",
     "output_type": "stream",
     "text": [
      "Sorry, I only tell jokes\n"
     ]
    }
   ],
   "source": [
    "# joke bot\n",
    "PROMPT = \"What do you want? \"\n",
    "JOKE = \"Here is a joke for you! Karel is heading out to the grocery store. A programmer tells her: get a liter of milk, and if they have eggs, get 12. Karel returns with 13 liters of milk. The programmer asks why and Karel replies: 'because they had eggs'\"\n",
    "SORRY = \"Sorry, I only tell jokes\"\n",
    "\n",
    "def main():\n",
    "    user_input = input(PROMPT)\n",
    "    \n",
    "    if user_input == \"Joke\":\n",
    "        print(JOKE)\n",
    "    else:\n",
    "        print(SORRY)\n",
    "\n",
    "if __name__ == \"__main__\":\n",
    "    main()\n"
   ]
  },
  {
   "cell_type": "code",
   "execution_count": null,
   "metadata": {},
   "outputs": [],
   "source": []
  }
 ],
 "metadata": {
  "kernelspec": {
   "display_name": "Python 3",
   "language": "python",
   "name": "python3"
  },
  "language_info": {
   "codemirror_mode": {
    "name": "ipython",
    "version": 3
   },
   "file_extension": ".py",
   "mimetype": "text/x-python",
   "name": "python",
   "nbconvert_exporter": "python",
   "pygments_lexer": "ipython3",
   "version": "3.12.3"
  }
 },
 "nbformat": 4,
 "nbformat_minor": 2
}
