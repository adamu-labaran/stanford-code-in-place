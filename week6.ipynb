{
 "cells": [
  {
   "cell_type": "code",
   "execution_count": 16,
   "metadata": {},
   "outputs": [
    {
     "name": "stdout",
     "output_type": "stream",
     "text": [
      "[2, 4, 6, 8, 10]\n"
     ]
    }
   ],
   "source": [
    "num = [1,2,3,4,5]\n",
    "for i in range(len(num)):\n",
    "    num[i] = num[i] * 2\n",
    "print(num)"
   ]
  },
  {
   "cell_type": "code",
   "execution_count": 37,
   "metadata": {},
   "outputs": [
    {
     "name": "stdout",
     "output_type": "stream",
     "text": [
      "10\n"
     ]
    }
   ],
   "source": [
    "num = [1,2,3,4,5]\n",
    "for num in num:\n",
    "    num *= 2\n",
    "print(num)"
   ]
  },
  {
   "cell_type": "code",
   "execution_count": 38,
   "metadata": {},
   "outputs": [
    {
     "name": "stdout",
     "output_type": "stream",
     "text": [
      "1\n",
      "2\n",
      "3\n",
      "4\n",
      "5\n"
     ]
    }
   ],
   "source": [
    "num = [1,2,3,4,5]\n",
    "for num in num:\n",
    "    print(num)"
   ]
  },
  {
   "cell_type": "code",
   "execution_count": 33,
   "metadata": {},
   "outputs": [
    {
     "name": "stdout",
     "output_type": "stream",
     "text": [
      "1\n",
      "2\n",
      "3\n",
      "4\n",
      "5\n",
      "\n",
      "1\n",
      "2\n",
      "3\n",
      "4\n",
      "5\n"
     ]
    }
   ],
   "source": [
    "NUMS = [1, 2, 3, 4, 5] \n",
    "for i in range(len(NUMS)): # this provide with more info about the indexing and the index can also be utilized\n",
    "    elem = NUMS[i]\n",
    "    print(elem)\n",
    "    \n",
    "print()\n",
    "for elem2 in NUMS: # this is more just getting the value.\n",
    "    print(elem2)\n",
    "    "
   ]
  },
  {
   "cell_type": "code",
   "execution_count": 6,
   "metadata": {},
   "outputs": [
    {
     "name": "stdout",
     "output_type": "stream",
     "text": [
      "[2, 4, 6, 8, 10, 12]\n"
     ]
    }
   ],
   "source": [
    "nums = [1, 2, 3, 4, 5, 6]\n",
    "for i in range(len(nums)):\n",
    "    num = nums[i]\n",
    "    nums[i] = num * 2\n",
    "print(nums)"
   ]
  },
  {
   "cell_type": "code",
   "execution_count": 24,
   "metadata": {},
   "outputs": [
    {
     "name": "stdout",
     "output_type": "stream",
     "text": [
      "[1, 2, 3, 4, 5, 6, 7, 8, 9, 10, 11, 12]\n"
     ]
    }
   ],
   "source": [
    "num1 = [1, 2, 3, 4, 5, 6]\n",
    "num2 = [7, 8, 9, 10,11, 12]\n",
    "num1.extend(num2)\n",
    "print(num1)\n",
    "\n",
    "num1.append(15)\n",
    "x = num1.pop()\n",
    "\n"
   ]
  },
  {
   "cell_type": "code",
   "execution_count": 25,
   "metadata": {},
   "outputs": [
    {
     "name": "stdout",
     "output_type": "stream",
     "text": [
      "list has element\n"
     ]
    }
   ],
   "source": [
    "# check if an element exist in  list\n",
    "my_list = [42, 100, 10]\n",
    "if 42 in my_list:\n",
    "    print(\"list has element\")\n",
    "else:\n",
    "    print(\"None\")"
   ]
  },
  {
   "cell_type": "code",
   "execution_count": 26,
   "metadata": {},
   "outputs": [
    {
     "name": "stdout",
     "output_type": "stream",
     "text": [
      "None\n"
     ]
    }
   ],
   "source": [
    "# check if an element exist in  list\n",
    "my_list = [42, 100, 10]\n",
    "if -42 in my_list:\n",
    "    print(\"list has element\")\n",
    "else:\n",
    "    print(\"None\")"
   ]
  },
  {
   "cell_type": "code",
   "execution_count": 42,
   "metadata": {},
   "outputs": [],
   "source": [
    "# list comprehension\n"
   ]
  },
  {
   "cell_type": "code",
   "execution_count": 40,
   "metadata": {},
   "outputs": [],
   "source": [
    "def todo(todo_list):\n",
    "    pass\n",
    "    "
   ]
  },
  {
   "cell_type": "code",
   "execution_count": 46,
   "metadata": {},
   "outputs": [
    {
     "name": "stdout",
     "output_type": "stream",
     "text": [
      "156\n"
     ]
    }
   ],
   "source": [
    "def add_many_nums(nums):\n",
    "    total = 0\n",
    "    for num in nums:\n",
    "        total += num\n",
    "    return total\n",
    "\n",
    "nums = [1, 2, 3, 4, 5, 6,90, 20,22,3]\n",
    "sum = add_many_nums(nums)\n",
    "print(sum)"
   ]
  },
  {
   "cell_type": "code",
   "execution_count": 47,
   "metadata": {},
   "outputs": [
    {
     "name": "stdout",
     "output_type": "stream",
     "text": [
      "28\n"
     ]
    }
   ],
   "source": [
    "def main():\n",
    "    x = 28\n",
    "    \n",
    "    change_value(x)\n",
    "    print(x)\n",
    "\n",
    "def change_value(n):\n",
    "    \n",
    "    n = 42\n",
    "\n",
    "\n",
    "main()"
   ]
  },
  {
   "cell_type": "code",
   "execution_count": null,
   "metadata": {},
   "outputs": [],
   "source": [
    "def main():\n",
    "    my_list = [42, 28,7]\n",
    "    \n",
    "    change_value(my_list)\n",
    "    print(my_list)\n",
    "    \n",
    "def change_value(lst):\n",
    "    lst = []"
   ]
  },
  {
   "cell_type": "code",
   "execution_count": 48,
   "metadata": {},
   "outputs": [],
   "source": [
    "nums = [1, 2, 3, 4]\n",
    "for i in range(len(nums)):\n",
    "    nums[i]  += 1\n",
    "    \n",
    "for elem in nums:\n",
    "    \n",
    "    elem += 1\n",
    "    \n",
    "    "
   ]
  },
  {
   "cell_type": "code",
   "execution_count": 50,
   "metadata": {},
   "outputs": [],
   "source": [
    "lst1 = [42, 45, 55]\n",
    "lst2 = [32, 67]\n",
    "lst1.extend(lst2)   # this adds two seperate list| modifies a list\n",
    "lst3 = lst1 + lst2 # this add as well but must be assign to a variable | make a new list\n"
   ]
  },
  {
   "cell_type": "code",
   "execution_count": 52,
   "metadata": {},
   "outputs": [
    {
     "name": "stdout",
     "output_type": "stream",
     "text": [
      "1\n",
      "[42, 27, 100, 10, 100]\n"
     ]
    }
   ],
   "source": [
    "# gettin and using indeces\n",
    "my_list = [42, 100, 10, 100]\n",
    "idx = my_list.index(100)\n",
    "print(idx)\n",
    "my_list.insert(1, 27)\n",
    "print(my_list)\n",
    "max(my_list) # min() sum()"
   ]
  },
  {
   "cell_type": "code",
   "execution_count": null,
   "metadata": {},
   "outputs": [],
   "source": [
    "def main():\n",
    "    number_list = load_numbers_from_file(\"numbers.txt\")\n",
    "    \n",
    "    # Compute the average\n",
    "    if number_list:  # Ensure the list is not empty to avoid division by zero\n",
    "        average = sum(number_list) / len(number_list)\n",
    "        print(f\"Average: {average}\")\n",
    "    else:\n",
    "        print(\"The list is empty. No average to compute.\")\n",
    "\n",
    "\n",
    "def load_numbers_from_file(filepath):\n",
    "    \"\"\"\n",
    "    Loads numbers from a file into a list and returns it.\n",
    "    We assume the file to have one number per line.\n",
    "    Returns a list of numbers. You should not modify this\n",
    "    function.\n",
    "    \"\"\"\n",
    "    numbers = []\n",
    "    with open(filepath, 'r') as file_reader:\n",
    "        for line in file_reader.readlines():\n",
    "            cleaned_line = line.strip()\n",
    "            if cleaned_line != '':\n",
    "                numbers.append(float(cleaned_line))\n",
    "    \n",
    "    return numbers\n",
    "\n",
    "\n",
    "if __name__ == '__main__':\n",
    "    main()\n"
   ]
  },
  {
   "cell_type": "code",
   "execution_count": null,
   "metadata": {},
   "outputs": [],
   "source": [
    "\"\"\"\n",
    "It is often the case that we don't want to hardcode and store large amounts of data directly in the code of our programs. Instead, it is more common for us to transport data using files and read the data from the files to then operate on it. This also lets us operate on different files which are structured the same using the same exact code! The starter code already loads a list of numbers from file. You may find it interesting to read over. \n",
    "\n",
    "Your job is to compute the average of the values in number_list and to print the result out.\n",
    "\n",
    "For example if numbers.txt contained these four numbers:\n",
    "\n",
    "1\n",
    "5\n",
    "7\n",
    "9\n",
    "\n",
    "Running your program would produce:\n",
    "\n",
    "Average: 5.5\n",
    "\"\"\"\n",
    "\n",
    "def main():\n",
    "    number_list = load_numbers_from_file(\"numbers.txt\")\n",
    "    # TODO: your code here\n",
    "\n",
    "\n",
    "def load_numbers_from_file(filepath):\n",
    "    \"\"\"\n",
    "    Loads numbers from a file into a list and returns it.\n",
    "    We assume the file to have one number per line.\n",
    "    Returns a list of numbers. You should not modify this\n",
    "    function.\n",
    "    \"\"\"\n",
    "    numbers = []\n",
    "    with open(filepath, 'r') as file_reader:\n",
    "        for line in file_reader.readlines():\n",
    "            cleaned_line = line.strip()\n",
    "            if cleaned_line != '':\n",
    "                numbers.append(float(cleaned_line))\n",
    "    \n",
    "    return numbers\n",
    "\n",
    "\n",
    "if __name__ == '__main__':\n",
    "    main()\n"
   ]
  },
  {
   "cell_type": "code",
   "execution_count": null,
   "metadata": {},
   "outputs": [],
   "source": [
    "\"\"\"\n",
    "Write a program that loops over a dictionary of words and quizzes the user for their corresponding Spanish translations, keeping count of how many the user gets correct! Separate each question and answer with a blank line to help with visual clarity.\n",
    "\n",
    "Here's a sample run of the program (user input is in blue):\n",
    "\n",
    "What is the Spanish translation for hello? hola\n",
    "That is correct!\n",
    "\n",
    "What is the Spanish translation for dog? gato\n",
    "That is incorrect, the Spanish translation for dog is perro.\n",
    "\n",
    "... (quizzes user on the rest of the words)\n",
    "That is correct!\n",
    "\n",
    "You got 6/8 words correct, come study again soon\n",
    "\"\"\"\n",
    "\n",
    "def main():\n",
    "    translations = {\n",
    "        \"hello\": \"hola\",\n",
    "        \"dog\": \"perro\",\n",
    "        \"cat\": \"gato\",\n",
    "        \"well\": \"bien\",\n",
    "        \"us\": \"nos\",\n",
    "        \"nothing\": \"nada\",\n",
    "        \"house\": \"casa\",\n",
    "        \"time\": \"tiempo\"\n",
    "    }\n",
    "    \n",
    "    pass  # Delete this line and write your code here! :)\n",
    "\n",
    "\n",
    "\n",
    "if __name__ == '__main__':\n",
    "    main()"
   ]
  },
  {
   "cell_type": "code",
   "execution_count": null,
   "metadata": {},
   "outputs": [],
   "source": [
    "# solution\n",
    "def main():\n",
    "    translations = {\n",
    "        \"hello\": \"hola\",\n",
    "        \"dog\": \"perro\",\n",
    "        \"cat\": \"gato\",\n",
    "        \"well\": \"bien\",\n",
    "        \"us\": \"nos\",\n",
    "        \"nothing\": \"nada\",\n",
    "        \"house\": \"casa\",\n",
    "        \"time\": \"tiempo\"\n",
    "    }\n",
    "    \n",
    "    correct_count = 0\n",
    "    total_count = len(translations)\n",
    "    \n",
    "    for english_word, spanish_translation in translations.items():\n",
    "        user_answer = input(f\"What is the Spanish translation for {english_word}? \").strip().lower()\n",
    "        print()  # Blank line for visual clarity\n",
    "        \n",
    "        if user_answer == spanish_translation:\n",
    "            print(\"That is correct!\")\n",
    "            correct_count += 1\n",
    "        else:\n",
    "            print(f\"That is incorrect, the Spanish translation for {english_word} is {spanish_translation}.\")\n",
    "        \n",
    "        print()  # Blank line for visual clarity\n",
    "    \n",
    "    print(f\"You got {correct_count}/{total_count} words correct, come study again soon\")\n",
    "\n",
    "\n",
    "if __name__ == '__main__':\n",
    "    main()\n"
   ]
  },
  {
   "cell_type": "code",
   "execution_count": null,
   "metadata": {},
   "outputs": [],
   "source": [
    "def main():\n",
    "    translations = {\n",
    "        \"hello\": \"hola\",\n",
    "        \"dog\": \"perro\",\n",
    "        \"cat\": \"gato\",\n",
    "        \"well\": \"bien\",\n",
    "        \"us\": \"nos\",\n",
    "        \"nothing\": \"nada\",\n",
    "        \"house\": \"casa\",\n",
    "        \"time\": \"tiempo\"\n",
    "    }\n",
    "    \n",
    "    correct_count = 0\n",
    "    total_count = len(translations)\n",
    "    \n",
    "    for english_word, spanish_translation in translations.items():\n",
    "        user_answer = input(f\"What is the Spanish translation for {english_word}? \").strip().lower()\n",
    "        \n",
    "        if user_answer == spanish_translation:\n",
    "            print(\"That is correct!\")\n",
    "        else:\n",
    "            print(f\"That is incorrect, the Spanish translation for {english_word} is {spanish_translation}.\")\n",
    "        \n",
    "        print()  # Blank line for visual clarity\n",
    "        if user_answer == spanish_translation:\n",
    "            correct_count += 1\n",
    "    \n",
    "    print(f\"You got {correct_count}/{total_count} words correct, come study again soon!\")\n",
    "\n",
    "\n",
    "if __name__ == '__main__':\n",
    "    main()\n"
   ]
  },
  {
   "cell_type": "code",
   "execution_count": null,
   "metadata": {},
   "outputs": [],
   "source": [
    "from graphics import Canvas\n",
    "import random\n",
    "\n",
    "CANVAS_WIDTH = 300\n",
    "CANVAS_HEIGHT = 300\n",
    "CIRCLE_SIZE = 20\n",
    "N_CIRCLES = 20\n",
    "\n",
    "def main():\n",
    "    print('Random Circles')\n",
    "    canvas = Canvas(CANVAS_WIDTH, CANVAS_HEIGHT)\n",
    "    for i in range(N_CIRCLES):\n",
    "        draw_random_circle(canvas)\n",
    "        \n",
    "def draw_random_circle(canvas):\n",
    "    x = random.randint(0, CANVAS_WIDTH)\n",
    "    y = random.randint(0, CANVAS_HEIGHT)\n",
    "    color = random_color()\n",
    "    canvas.create_oval(x, y, x + CIRCLE_SIZE, y + CIRCLE_SIZE, color)\n",
    "    \n",
    "def random_color():\n",
    "    \"\"\"\n",
    "    This is a function to use to get a random color for each circle. We have\n",
    "    defined this for you and there is no need to edit code in this function,\n",
    "    but feel free to read it over if you are interested. \n",
    "    \"\"\"\n",
    "    colors = ['blue', 'purple', 'salmon', 'lightblue', 'cyan', 'forestgreen']\n",
    "    return random.choice(colors)\n",
    "\n",
    "if __name__ == '__main__':\n",
    "    main()"
   ]
  },
  {
   "cell_type": "code",
   "execution_count": null,
   "metadata": {},
   "outputs": [],
   "source": []
  },
  {
   "cell_type": "code",
   "execution_count": null,
   "metadata": {},
   "outputs": [],
   "source": []
  }
 ],
 "metadata": {
  "kernelspec": {
   "display_name": "Python 3",
   "language": "python",
   "name": "python3"
  },
  "language_info": {
   "codemirror_mode": {
    "name": "ipython",
    "version": 3
   },
   "file_extension": ".py",
   "mimetype": "text/x-python",
   "name": "python",
   "nbconvert_exporter": "python",
   "pygments_lexer": "ipython3",
   "version": "3.11.3"
  }
 },
 "nbformat": 4,
 "nbformat_minor": 2
}
