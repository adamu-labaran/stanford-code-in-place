{
 "cells": [
  {
   "cell_type": "code",
   "execution_count": null,
   "metadata": {},
   "outputs": [],
   "source": [
    "import random\n",
    "\n",
    "\n",
    "def main():\n",
    "    print(\"Khansole Academy\")\n",
    "    num1 = random.randint(10, 99)\n",
    "    num2 = random.randint(10, 99)\n",
    "    print(f\"What is {num1} + {num2}?\")\n",
    "\n",
    "    user_answer = int(input(\"Your answer: \"))\n",
    "    correct_answer = num1 + num2\n",
    "    \n",
    "    if user_answer == correct_answer:\n",
    "        print(\"Correct!\")\n",
    "    else:\n",
    "        print(\"Incorrect.\")\n",
    "        print(f\"The expected answer is {correct_answer}\")\n",
    "\n",
    "if __name__ == \"__main__\":\n",
    "    main()\n"
   ]
  },
  {
   "cell_type": "code",
   "execution_count": 3,
   "metadata": {},
   "outputs": [
    {
     "name": "stdout",
     "output_type": "stream",
     "text": [
      "Khansole Academy\n",
      "what is 83 + 41 ?\n",
      "CORRECT!\n"
     ]
    }
   ],
   "source": [
    "import random\n",
    "def main():\n",
    "    print(\"Khansole Academy\")\n",
    "    # a random number will be generated and display\n",
    "    num1 = random.randint(10, 99)\n",
    "    num2 = random.randint(10, 99)\n",
    "    \n",
    "    # a user will provide the solution what has been displayed\n",
    "    print(f\"what is {num1} + {num2} ?\")\n",
    "    \n",
    "    user_answer = int(input(\"your answer: \"))\n",
    "    correct_answer = num1 + num2\n",
    "    \n",
    "    # checking the solution/ grading the user\n",
    "    if user_answer == correct_answer:\n",
    "        print(\"CORRECT!\")\n",
    "    else:\n",
    "        print(\"INCORRECT\")\n",
    "        print(f\"The expected answer is {correct_answer}\")\n",
    "        \n",
    "if __name__ == '__main__':\n",
    "    main()\n",
    "    \n",
    "    \n"
   ]
  },
  {
   "cell_type": "code",
   "execution_count": 6,
   "metadata": {},
   "outputs": [
    {
     "name": "stdout",
     "output_type": "stream",
     "text": [
      "What is 33 + 94?\n",
      "Correct!\n"
     ]
    }
   ],
   "source": [
    "import random \n",
    "\n",
    "def main():\n",
    "    first_num = random.randint(10, 99)\n",
    "    second_num = random.randint(10, 99)\n",
    "    print(\"What is \" + str(first_num) + \" + \" + str(second_num) + \"?\")\n",
    "    user_answer = int(input(\"Your answer: \"))\n",
    "    if user_answer == first_num + second_num:\n",
    "        print(\"Correct!\")\n",
    "    else:\n",
    "        print(\"Incorrect.\")\n",
    "        print(\"The expected answer is \" + str(first_num + second_num))\n",
    "    \n",
    "\n",
    "if __name__ == '__main__':\n",
    "    main()\n"
   ]
  },
  {
   "cell_type": "code",
   "execution_count": 8,
   "metadata": {},
   "outputs": [
    {
     "name": "stdout",
     "output_type": "stream",
     "text": [
      "What is 50 + 93?\n",
      "Correct!\n"
     ]
    }
   ],
   "source": [
    "import random \n",
    "\n",
    "def main():\n",
    "    first_num = random.randint(10, 99)\n",
    "    second_num = random.randint(10, 99)\n",
    "    print(\"What is \" + str(first_num) + \" + \" + str(second_num) + \"?\")\n",
    "    user_answer = int(input(\"Your answer: \"))\n",
    "    if user_answer == first_num + second_num:\n",
    "        print(\"Correct!\")\n",
    "    else:\n",
    "        print(\"Incorrect.\")\n",
    "        print(\"The expected answer is \" + str(first_num + second_num))\n",
    "    \n",
    "\n",
    "if __name__ == '__main__':\n",
    "    main()\n"
   ]
  },
  {
   "cell_type": "code",
   "execution_count": 10,
   "metadata": {},
   "outputs": [
    {
     "name": "stdout",
     "output_type": "stream",
     "text": [
      "What is 95 + 69?\n",
      "Incorrect.\n",
      "The expected answer is 164\n"
     ]
    }
   ],
   "source": [
    "import random\n",
    "def main():    \n",
    "    first_num = random.randint(10, 99)    \n",
    "    second_num = random.randint(10, 99)    \n",
    "    print(\"What is \" + str(first_num) + \" + \" + str(second_num) + \"?\")    \n",
    "    user_answer = int(input(\"Your answer: \"))    \n",
    "    if user_answer == first_num + second_num:        \n",
    "        print(\"Correct!\")    \n",
    "    else:        \n",
    "        print(\"Incorrect.\")        \n",
    "        print(\"The expected answer is \" + str(first_num + second_num))\n",
    "if __name__ == '__main__':    \n",
    "    main() \n"
   ]
  },
  {
   "cell_type": "code",
   "execution_count": null,
   "metadata": {},
   "outputs": [],
   "source": []
  },
  {
   "cell_type": "code",
   "execution_count": 12,
   "metadata": {},
   "outputs": [
    {
     "name": "stdout",
     "output_type": "stream",
     "text": [
      "Khansole Academy\n",
      "What is 57 + 60?\n"
     ]
    }
   ],
   "source": [
    "import random\n",
    "\n",
    "def main():\n",
    "    print(\"Khansole Academy\")\n",
    "    first_num = random.randint(10, 99)\n",
    "    second_num = random.randint(10, 99)\n",
    "    print(\"What is \" + str(first_num) + \" + \" + str(second_num) + \"?\")\n",
    "\n",
    "\n",
    "if __name__ == '__main__':\n",
    "    main()\n"
   ]
  },
  {
   "cell_type": "code",
   "execution_count": null,
   "metadata": {},
   "outputs": [],
   "source": []
  }
 ],
 "metadata": {
  "kernelspec": {
   "display_name": "Python 3",
   "language": "python",
   "name": "python3"
  },
  "language_info": {
   "codemirror_mode": {
    "name": "ipython",
    "version": 3
   },
   "file_extension": ".py",
   "mimetype": "text/x-python",
   "name": "python",
   "nbconvert_exporter": "python",
   "pygments_lexer": "ipython3",
   "version": "3.11.3"
  }
 },
 "nbformat": 4,
 "nbformat_minor": 2
}
