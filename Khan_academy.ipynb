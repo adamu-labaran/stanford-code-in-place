{
 "cells": [
  {
   "cell_type": "code",
   "execution_count": 1,
   "metadata": {},
   "outputs": [
    {
     "name": "stdout",
     "output_type": "stream",
     "text": [
      "Khansole Academy\n",
      "What is 63 + 80?\n",
      "Correct!\n"
     ]
    }
   ],
   "source": [
    "import random\n",
    "\n",
    "def generate_problem():\n",
    "    \"\"\"Generate a simple addition problem with two random 2-digit integers.\"\"\"\n",
    "    num1 = random.randint(10, 99)\n",
    "    num2 = random.randint(10, 99)\n",
    "    return num1, num2\n",
    "\n",
    "def main():\n",
    "    print(\"Khansole Academy\")\n",
    "    num1, num2 = generate_problem()\n",
    "    correct_answer = num1 + num2\n",
    "    print(f\"What is {num1} + {num2}?\")\n",
    "    user_answer = int(input(\"Your answer: \"))\n",
    "    \n",
    "    if user_answer == correct_answer:\n",
    "        print(\"Correct!\")\n",
    "    else:\n",
    "        print(\"Incorrect.\")\n",
    "        print(f\"The expected answer is {correct_answer}\")\n",
    "\n",
    "if __name__ == \"__main__\":\n",
    "    main()\n"
   ]
  },
  {
   "cell_type": "code",
   "execution_count": null,
   "metadata": {},
   "outputs": [],
   "source": []
  },
  {
   "cell_type": "code",
   "execution_count": null,
   "metadata": {},
   "outputs": [],
   "source": [
    "import random\n",
    "\n",
    "\n",
    "def main():\n",
    "    print(\"Khansole Academy\")\n",
    "    num1 = random.randint(10, 99)\n",
    "    num2 = random.randint(10, 99)\n",
    "    print(f\"What is {num1} + {num2}?\")\n",
    "\n",
    "    user_answer = int(input(\"Your answer: \"))\n",
    "    correct_answer = num1 + num2\n",
    "    \n",
    "    if user_answer == correct_answer:\n",
    "        print(\"Correct!\")\n",
    "    else:\n",
    "        print(\"Incorrect.\")\n",
    "        print(f\"The expected answer is {correct_answer}\")\n",
    "\n",
    "if __name__ == \"__main__\":\n",
    "    main()\n"
   ]
  }
 ],
 "metadata": {
  "kernelspec": {
   "display_name": "Python 3",
   "language": "python",
   "name": "python3"
  },
  "language_info": {
   "codemirror_mode": {
    "name": "ipython",
    "version": 3
   },
   "file_extension": ".py",
   "mimetype": "text/x-python",
   "name": "python",
   "nbconvert_exporter": "python",
   "pygments_lexer": "ipython3",
   "version": "3.11.3"
  }
 },
 "nbformat": 4,
 "nbformat_minor": 2
}
