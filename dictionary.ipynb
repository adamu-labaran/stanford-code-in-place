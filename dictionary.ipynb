{
 "cells": [
  {
   "cell_type": "code",
   "execution_count": null,
   "metadata": {},
   "outputs": [],
   "source": [
    "age = {'chris': 32, 'juliet': 24, 'mehran': 50}\n",
    "# access value from age\n",
    "\n",
    "age['chris']\n",
    "age['mehran']\n",
    "\n",
    "# updating value from dict (age)\n",
    "age['juliet'] = 18\n",
    "age['juliet'] += 3\n",
    "\n",
    "\n",
    "# holding each person dict from age\n",
    "chris_age = age['chris']\n",
    "juliet_age = age['juliet']\n",
    "\n",
    "\n",
    "# cheking for membership\n",
    "'mehran' in age\n",
    "chris not in age  "
   ]
  },
  {
   "cell_type": "code",
   "execution_count": null,
   "metadata": {},
   "outputs": [],
   "source": [
    "# adding pair to a dictionry\n",
    "phone = {}\n",
    "\n",
    "phone['pat'] = '555-1212'\n",
    "phone['jenny'] = '867-5309' \n",
    "\n",
    "# when for example jenny lost a number\n",
    "phone['pat'] = None \n",
    "\n"
   ]
  },
  {
   "cell_type": "code",
   "execution_count": 1,
   "metadata": {},
   "outputs": [
    {
     "name": "stdout",
     "output_type": "stream",
     "text": [
      "Chris->32\n",
      "Juliet->24\n",
      "Mehran->50\n"
     ]
    }
   ],
   "source": [
    "# loop over dictionary\n",
    "ages =  {'Chris':32, 'Juliet':24, 'Mehran': 50}\n",
    "for key in ages:\n",
    "    value = ages[key]\n",
    "    print(str(key) + '->' + str(value))\n",
    "    \n",
    "    "
   ]
  },
  {
   "cell_type": "code",
   "execution_count": 3,
   "metadata": {},
   "outputs": [
    {
     "name": "stdout",
     "output_type": "stream",
     "text": [
      "0 a\n",
      "1 b\n",
      "2 c\n"
     ]
    }
   ],
   "source": [
    "# list vs dic\n",
    "my_list = ['a', 'b', 'c']\n",
    "# print(my_list[1])\n",
    "\n",
    "for i in range(len(my_list)):\n",
    "    value = my_list[i]\n",
    "    print(i, value)"
   ]
  },
  {
   "cell_type": "code",
   "execution_count": 4,
   "metadata": {},
   "outputs": [
    {
     "name": "stdout",
     "output_type": "stream",
     "text": [
      "+33\n",
      "France +33\n",
      "Japan +81\n",
      "Brazil +55\n"
     ]
    }
   ],
   "source": [
    "my_dict = {\n",
    "    'France':'+33',\n",
    "    'Japan':'+81',\n",
    "    'Brazil':'+55'\n",
    "}\n",
    "\n",
    "print(my_dict['France'])\n",
    "\n",
    "\n",
    "for key in my_dict:\n",
    "    value = my_dict[key]\n",
    "    print(key, value)"
   ]
  },
  {
   "cell_type": "code",
   "execution_count": 6,
   "metadata": {},
   "outputs": [
    {
     "name": "stdout",
     "output_type": "stream",
     "text": [
      "Chris -> 32\n",
      "Juliet -> 24\n",
      "Mehran -> 50\n"
     ]
    }
   ],
   "source": [
    "ages = {'Chris':32, 'Juliet':24, 'Mehran': 50}\n",
    "# using function: dict.keys() to access ages\n",
    "\n",
    "for key in ages.keys():\n",
    "    print(str(key) + ' -> ' + str(ages[key]))"
   ]
  },
  {
   "cell_type": "code",
   "execution_count": 7,
   "metadata": {},
   "outputs": [
    {
     "name": "stdout",
     "output_type": "stream",
     "text": [
      "['Chris', 'Juliet', 'Mehran']\n"
     ]
    }
   ],
   "source": [
    "ages = {'Chris':32, 'Juliet':24, 'Mehran': 50}\n",
    "# casting dict to a list\n",
    "print(list(ages.keys()))"
   ]
  },
  {
   "cell_type": "code",
   "execution_count": 8,
   "metadata": {},
   "outputs": [
    {
     "name": "stdout",
     "output_type": "stream",
     "text": [
      "32\n",
      "24\n",
      "50\n"
     ]
    }
   ],
   "source": [
    "# manipulating the values using function: dict.values()\n",
    "ages = {'Chris':32, 'Juliet':24, 'Mehran': 50}\n",
    "for value in ages.values():\n",
    "    print(value)"
   ]
  },
  {
   "cell_type": "code",
   "execution_count": 9,
   "metadata": {},
   "outputs": [
    {
     "data": {
      "text/plain": [
       "[32, 24, 50]"
      ]
     },
     "execution_count": 9,
     "metadata": {},
     "output_type": "execute_result"
    }
   ],
   "source": [
    "# casting the values to a list\n",
    "list(ages.values())"
   ]
  },
  {
   "cell_type": "code",
   "execution_count": 10,
   "metadata": {},
   "outputs": [
    {
     "name": "stdout",
     "output_type": "stream",
     "text": [
      "Chris -> 32\n",
      "Juliet -> 24\n",
      "Mehran -> 50\n"
     ]
    }
   ],
   "source": [
    "# using function: dict.items()\n",
    "ages = {'Chris':32, 'Juliet':24, 'Mehran': 50}\n",
    "for key, value in ages.items():\n",
    "    print(str(key) + ' -> ' + str(value))\n",
    "    "
   ]
  },
  {
   "cell_type": "code",
   "execution_count": null,
   "metadata": {},
   "outputs": [],
   "source": [
    "# using dict.pop(key): removes key/value pair with the given key. returns value from that key/value pair. the value removes can be stored in a variable for future use\n",
    "ages = {'Chris':32, 'Juliet':24, 'Mehran': 50}\n",
    "ages.pop('Mehran')\n",
    "\n",
    "# dict.clear(): removes all key/value pair in the dictionary\n",
    "ages.clear()"
   ]
  },
  {
   "cell_type": "code",
   "execution_count": 11,
   "metadata": {},
   "outputs": [],
   "source": [
    "# using len(): returns number of key/value pairs in the dictionary\n",
    "ages = {'Chris':32, 'Juliet':24, 'Mehran': 50}\n",
    "len(ages)\n",
    "\n",
    "# del dict[key]: removes key/value pairs in the dictionary -> similar to pop, but doesn't return anything. And the key/value will truncated\n",
    "ages = {'Chris':32, 'Juliet':24, 'Mehran': 50}\n",
    "del ages['Mehran']\n"
   ]
  },
  {
   "cell_type": "code",
   "execution_count": null,
   "metadata": {},
   "outputs": [],
   "source": []
  }
 ],
 "metadata": {
  "kernelspec": {
   "display_name": "Python 3",
   "language": "python",
   "name": "python3"
  },
  "language_info": {
   "codemirror_mode": {
    "name": "ipython",
    "version": 3
   },
   "file_extension": ".py",
   "mimetype": "text/x-python",
   "name": "python",
   "nbconvert_exporter": "python",
   "pygments_lexer": "ipython3",
   "version": "3.11.3"
  }
 },
 "nbformat": 4,
 "nbformat_minor": 2
}
