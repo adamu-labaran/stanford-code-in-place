{
 "cells": [
  {
   "cell_type": "code",
   "execution_count": 6,
   "metadata": {},
   "outputs": [
    {
     "name": "stdout",
     "output_type": "stream",
     "text": [
      "ada -> 111\n",
      "ado -> 112\n",
      "musa -> 222\n",
      "Now you can lookup names in the phonebook\n",
      "222\n",
      "adam is not in this phonebook \n"
     ]
    }
   ],
   "source": [
    "# this program design a read phonebook where a user is ask to enter a name and numbber and check if it exist\n",
    "\n",
    "def read_phone_numbers():\n",
    "    \"\"\"\n",
    "    Ask the user for names/numbers to store in a phonebook(dictionary).\n",
    "    Returns the phonebook.\n",
    "    \"\"\"\n",
    "    phonebook = {}\n",
    "    # for a user to enter name, numbers multiple times\n",
    "    while True:\n",
    "        name = input(\"Name: \")\n",
    "        if name == \"\":\n",
    "            break\n",
    "        number = input(\"Number: \")\n",
    "        phonebook[name] = number # key = name, value = number\n",
    "    \n",
    "    \n",
    "    return phonebook\n",
    "\n",
    "def print_phonebook(phonebook):\n",
    "    \"\"\"\n",
    "    print out all the names/numbers in the phonebook.\n",
    "    \"\"\"\n",
    "    for key, value in phonebook.items():\n",
    "        print(str(key) + ' -> ' + str(value))\n",
    "\n",
    "def lookup_numbers(phonebook):\n",
    "    \"\"\"\n",
    "    allow the user to lookup phone numbers in the phonebook\n",
    "    by looking up the number associated with a name.\n",
    "    \"\"\"\n",
    "    print(\"Now you can lookup names in the phonebook\")\n",
    "    while True:\n",
    "        name = input(\"Name: \")\n",
    "        if name == \"\":\n",
    "            break\n",
    "        if name in phonebook:\n",
    "            phone_number = phonebook[name]\n",
    "            print(phone_number)\n",
    "        else:\n",
    "            print(name + \" is not in this phonebook \")\n",
    "        \n",
    "\n",
    "\n",
    "def main():\n",
    "    phonebook = read_phone_numbers()\n",
    "    print_phonebook(phonebook)\n",
    "    lookup_numbers(phonebook)\n",
    " \n",
    " \n",
    "\n",
    "if __name__ == \"__main__\":\n",
    "    main()"
   ]
  },
  {
   "cell_type": "code",
   "execution_count": null,
   "metadata": {},
   "outputs": [],
   "source": []
  },
  {
   "cell_type": "code",
   "execution_count": null,
   "metadata": {},
   "outputs": [],
   "source": []
  }
 ],
 "metadata": {
  "kernelspec": {
   "display_name": "Python 3",
   "language": "python",
   "name": "python3"
  },
  "language_info": {
   "codemirror_mode": {
    "name": "ipython",
    "version": 3
   },
   "file_extension": ".py",
   "mimetype": "text/x-python",
   "name": "python",
   "nbconvert_exporter": "python",
   "pygments_lexer": "ipython3",
   "version": "3.11.3"
  }
 },
 "nbformat": 4,
 "nbformat_minor": 2
}
