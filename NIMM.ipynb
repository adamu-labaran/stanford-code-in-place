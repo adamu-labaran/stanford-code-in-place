{
 "cells": [
  {
   "cell_type": "code",
   "execution_count": 2,
   "metadata": {},
   "outputs": [],
   "source": [
    "def milestone1():\n",
    "    stones = 20\n",
    "    while stones > 0:\n",
    "        print(f\"There are {stones} stones left.\")\n",
    "        remove = int(input(\"Would you like to remove 1 or 2 stones? \"))\n",
    "        stones -= remove\n",
    "        \n",
    "\n",
    "def milestone2():\n",
    "    stones = 20\n",
    "    player = 1\n",
    "    while stones > 0:\n",
    "        print(\"There are\", stones, \"stones left.\")\n",
    "        print(\"Player\", player, \"would you like to remove 1 or 2 stones?\")\n",
    "        remove = int(input())\n",
    "        stones -= remove\n",
    "        player = 1 if player == 2 else 2\n",
    "        print()\n",
    "\n",
    "def milestone3():\n",
    "    stones = 20\n",
    "    player = 1\n",
    "    while stones > 0:\n",
    "        print(\"There are\", stones, \"stones left.\")\n",
    "        print(\"Player\", player, \"would you like to remove 1 or 2 stones?\")\n",
    "        remove = int(input())\n",
    "        while remove != 1 and remove != 2:\n",
    "            remove = int(input(\"Please enter 1 or 2: \"))\n",
    "        stones -= remove\n",
    "        player = 1 if player == 2 else 2\n",
    "        print()\n",
    "\n",
    "def milestone4():\n",
    "    stones = 20\n",
    "    player = 1\n",
    "    while stones > 0:\n",
    "        print(\"There are\", stones, \"stones left.\")\n",
    "        print(\"Player\", player, \"would you like to remove 1 or 2 stones?\")\n",
    "        remove = int(input())\n",
    "        while remove != 1 and remove != 2:\n",
    "            remove = int(input(\"Please enter 1 or 2: \"))\n",
    "        stones -= remove\n",
    "        player = 1 if player == 2 else 2\n",
    "        print()\n",
    "    print(\"Player\", 1 if player == 2 else 2, \"wins!\")\n",
    "\n",
    "# Choose the milestone function to execute\n"
   ]
  },
  {
   "cell_type": "code",
   "execution_count": null,
   "metadata": {},
   "outputs": [],
   "source": []
  },
  {
   "cell_type": "code",
   "execution_count": null,
   "metadata": {},
   "outputs": [],
   "source": []
  },
  {
   "cell_type": "code",
   "execution_count": null,
   "metadata": {},
   "outputs": [],
   "source": [
    "milestone4()  # Change the function name to execute different milestones\n"
   ]
  },
  {
   "cell_type": "code",
   "execution_count": 3,
   "metadata": {},
   "outputs": [
    {
     "name": "stdout",
     "output_type": "stream",
     "text": [
      "There are 20 stones left.\n",
      "There are 18 stones left.\n",
      "There are 16 stones left.\n",
      "Invalid input. Please enter 1 or 2.\n",
      "There are 15 stones left.\n",
      "There are 13 stones left.\n"
     ]
    },
    {
     "ename": "ValueError",
     "evalue": "invalid literal for int() with base 10: ''",
     "output_type": "error",
     "traceback": [
      "\u001b[1;31m---------------------------------------------------------------------------\u001b[0m",
      "\u001b[1;31mValueError\u001b[0m                                Traceback (most recent call last)",
      "Cell \u001b[1;32mIn[3], line 23\u001b[0m\n\u001b[0;32m     20\u001b[0m         \u001b[38;5;66;03m# Switch to the next player\u001b[39;00m\n\u001b[0;32m     21\u001b[0m         current_player \u001b[38;5;241m=\u001b[39m \u001b[38;5;241m2\u001b[39m \u001b[38;5;28;01mif\u001b[39;00m current_player \u001b[38;5;241m==\u001b[39m \u001b[38;5;241m1\u001b[39m \u001b[38;5;28;01melse\u001b[39;00m \u001b[38;5;241m1\u001b[39m\n\u001b[1;32m---> 23\u001b[0m \u001b[43mmilestone1\u001b[49m\u001b[43m(\u001b[49m\u001b[43m)\u001b[49m\n",
      "Cell \u001b[1;32mIn[3], line 11\u001b[0m, in \u001b[0;36mmilestone1\u001b[1;34m()\u001b[0m\n\u001b[0;32m      8\u001b[0m \u001b[38;5;28;01melse\u001b[39;00m:\n\u001b[0;32m      9\u001b[0m     player \u001b[38;5;241m=\u001b[39m \u001b[38;5;124m\"\u001b[39m\u001b[38;5;124mPlayer 2\u001b[39m\u001b[38;5;124m\"\u001b[39m\n\u001b[1;32m---> 11\u001b[0m remove \u001b[38;5;241m=\u001b[39m \u001b[38;5;28;43mint\u001b[39;49m\u001b[43m(\u001b[49m\u001b[38;5;28;43minput\u001b[39;49m\u001b[43m(\u001b[49m\u001b[38;5;124;43mf\u001b[39;49m\u001b[38;5;124;43m\"\u001b[39;49m\u001b[38;5;132;43;01m{\u001b[39;49;00m\u001b[43mplayer\u001b[49m\u001b[38;5;132;43;01m}\u001b[39;49;00m\u001b[38;5;124;43m would you like to remove 1 or 2 stones? \u001b[39;49m\u001b[38;5;124;43m\"\u001b[39;49m\u001b[43m)\u001b[49m\u001b[43m)\u001b[49m\n\u001b[0;32m     13\u001b[0m \u001b[38;5;66;03m# Check if the input is valid\u001b[39;00m\n\u001b[0;32m     14\u001b[0m \u001b[38;5;28;01mwhile\u001b[39;00m remove \u001b[38;5;129;01mnot\u001b[39;00m \u001b[38;5;129;01min\u001b[39;00m [\u001b[38;5;241m1\u001b[39m, \u001b[38;5;241m2\u001b[39m] \u001b[38;5;129;01mor\u001b[39;00m remove \u001b[38;5;241m>\u001b[39m stones:\n",
      "\u001b[1;31mValueError\u001b[0m: invalid literal for int() with base 10: ''"
     ]
    }
   ],
   "source": [
    "def milestone1():\n",
    "    stones = 20\n",
    "    current_player = 1  # Indicates which player's turn it is\n",
    "    while stones > 0:\n",
    "        print(f\"There are {stones} stones left.\")\n",
    "        if current_player == 1:\n",
    "            player = \"Player 1\"\n",
    "        else:\n",
    "            player = \"Player 2\"\n",
    "            \n",
    "        remove = int(input(f\"{player} would you like to remove 1 or 2 stones? \"))\n",
    "        \n",
    "        # Check if the input is valid\n",
    "        while remove not in [1, 2] or remove > stones:\n",
    "            print(\"Invalid input. Please enter 1 or 2.\")\n",
    "            remove = int(input(f\"{player} would you like to remove 1 or 2 stones? \"))\n",
    "        \n",
    "        stones -= remove\n",
    "        \n",
    "        # Switch to the next player\n",
    "        current_player = 2 if current_player == 1 else 1\n",
    "\n",
    "milestone1()\n"
   ]
  },
  {
   "cell_type": "code",
   "execution_count": 12,
   "metadata": {},
   "outputs": [
    {
     "name": "stdout",
     "output_type": "stream",
     "text": [
      "There are 20 stones left.\n",
      "Player 1 would you like to remove 1 or 2 stones?\n",
      "There are 20 stones left.\n",
      "Player 1 would you like to remove 1 or 2 stones?\n",
      "There are 20 stones left.\n",
      "Player 1 would you like to remove 1 or 2 stones?\n",
      "There are 20 stones left.\n",
      "Player 1 would you like to remove 1 or 2 stones?\n",
      "There are 20 stones left.\n",
      "Player 1 would you like to remove 1 or 2 stones?\n"
     ]
    },
    {
     "ename": "ValueError",
     "evalue": "invalid literal for int() with base 10: ''",
     "output_type": "error",
     "traceback": [
      "\u001b[1;31m---------------------------------------------------------------------------\u001b[0m",
      "\u001b[1;31mValueError\u001b[0m                                Traceback (most recent call last)",
      "Cell \u001b[1;32mIn[12], line 18\u001b[0m\n\u001b[0;32m     15\u001b[0m         \u001b[38;5;28;01mwhile\u001b[39;00m remove \u001b[38;5;129;01mnot\u001b[39;00m \u001b[38;5;129;01min\u001b[39;00m [\u001b[38;5;241m1\u001b[39m, \u001b[38;5;241m2\u001b[39m] \u001b[38;5;129;01mor\u001b[39;00m remove \u001b[38;5;241m>\u001b[39m stones:\n\u001b[0;32m     16\u001b[0m             \u001b[38;5;28mprint\u001b[39m(\u001b[38;5;124m\"\u001b[39m\u001b[38;5;124mPlease enter 1 or 2:\u001b[39m\u001b[38;5;124m\"\u001b[39m)\n\u001b[1;32m---> 18\u001b[0m \u001b[43mmilestone1\u001b[49m\u001b[43m(\u001b[49m\u001b[43m)\u001b[49m\n",
      "Cell \u001b[1;32mIn[12], line 12\u001b[0m, in \u001b[0;36mmilestone1\u001b[1;34m()\u001b[0m\n\u001b[0;32m      9\u001b[0m     player \u001b[38;5;241m=\u001b[39m \u001b[38;5;124m\"\u001b[39m\u001b[38;5;124mPlayer 2\u001b[39m\u001b[38;5;124m\"\u001b[39m\n\u001b[0;32m     11\u001b[0m \u001b[38;5;28mprint\u001b[39m(\u001b[38;5;124mf\u001b[39m\u001b[38;5;124m\"\u001b[39m\u001b[38;5;132;01m{\u001b[39;00mplayer\u001b[38;5;132;01m}\u001b[39;00m\u001b[38;5;124m would you like to remove 1 or 2 stones?\u001b[39m\u001b[38;5;124m\"\u001b[39m)\n\u001b[1;32m---> 12\u001b[0m remove \u001b[38;5;241m=\u001b[39m \u001b[38;5;28;43mint\u001b[39;49m\u001b[43m(\u001b[49m\u001b[38;5;28;43minput\u001b[39;49m\u001b[43m(\u001b[49m\u001b[43m)\u001b[49m\u001b[43m)\u001b[49m\n\u001b[0;32m     14\u001b[0m \u001b[38;5;66;03m# Check if the input is valid\u001b[39;00m\n\u001b[0;32m     15\u001b[0m \u001b[38;5;28;01mwhile\u001b[39;00m remove \u001b[38;5;129;01mnot\u001b[39;00m \u001b[38;5;129;01min\u001b[39;00m [\u001b[38;5;241m1\u001b[39m, \u001b[38;5;241m2\u001b[39m] \u001b[38;5;129;01mor\u001b[39;00m remove \u001b[38;5;241m>\u001b[39m stones:\n",
      "\u001b[1;31mValueError\u001b[0m: invalid literal for int() with base 10: ''"
     ]
    }
   ],
   "source": [
    "def milestone1():\n",
    "    stones = 20\n",
    "    current_player = 1  # Indicates which player's turn it is\n",
    "    while stones > 0:\n",
    "        print(f\"There are {stones} stones left.\")\n",
    "        if current_player == 1:\n",
    "            player = \"Player 1\"\n",
    "        else:\n",
    "            player = \"Player 2\"\n",
    "        \n",
    "        print(f\"{player} would you like to remove 1 or 2 stones?\")\n",
    "        remove = int(input())\n",
    "\n",
    "        # Check if the input is valid\n",
    "        while remove not in [1, 2] or remove > stones:\n",
    "            print(\"Please enter 1 or 2:\")\n",
    "\n",
    "milestone1()\n"
   ]
  },
  {
   "cell_type": "code",
   "execution_count": 13,
   "metadata": {},
   "outputs": [
    {
     "name": "stdout",
     "output_type": "stream",
     "text": [
      "There are 20 stones left.\n",
      "There are 19 stones left.\n",
      "There are 18 stones left.\n",
      "There are 6 stones left.\n"
     ]
    }
   ],
   "source": [
    "def milestone1():\n",
    "    stones = 20\n",
    "    current_player = 1  # Indicates which player's turn it is\n",
    "    while stones > 0:\n",
    "        print(f\"There are {stones} stones left.\")\n",
    "        if current_player == 1:\n",
    "            player = \"Player 1\"\n",
    "        else:\n",
    "            player = \"Player 2\"\n",
    "            \n",
    "        remove = int(input(f\"{player} would you like to remove 1 or 2 stones? \"))\n",
    "         \n",
    "        stones -= remove\n",
    "        \n",
    "        # Switch to the next player\n",
    "        current_player = 2 if current_player == 1 else 1\n",
    "\n",
    "milestone1()\n"
   ]
  },
  {
   "cell_type": "code",
   "execution_count": null,
   "metadata": {},
   "outputs": [],
   "source": [
    "def milestone1():\n",
    "    stones = 20\n",
    "    player1\n",
    "    player2\n",
    "    \n",
    "    while stones > 0:\n",
    "        print(f\"There are {stones} stones left.\")"
   ]
  },
  {
   "cell_type": "code",
   "execution_count": 7,
   "metadata": {},
   "outputs": [
    {
     "name": "stdout",
     "output_type": "stream",
     "text": [
      "There are 20 stones left.\n",
      "There are 19 stones left.\n",
      "There are 18 stones left.\n"
     ]
    }
   ],
   "source": [
    "def milestone1():\n",
    "    stones = 20\n",
    "    current_player = 1  # Indicates which player's turn it is\n",
    "    while stones > 0:\n",
    "        print(f\"There are {stones} stones left.\")\n",
    "        if current_player == 1:\n",
    "            player = \"Player 1\"\n",
    "        else:\n",
    "            player = \"Player 2\"\n",
    "            \n",
    "        remove = int(input(f\"{player} would you like to remove 1 or 2 stones? \"))\n",
    "        \n",
    "        # # Check if the input is valid\n",
    "        # while remove > stones:\n",
    "        #     print(\"Invalid input. Please enter 1 or 2.\")\n",
    "        #     remove = int(input(f\"{player} would you like to remove 1 or 2 stones? \"))\n",
    "        \n",
    "        stones -= remove\n",
    "        \n",
    "        # Switch to the next player\n",
    "        current_player = 2 if current_player == 1 else current_player\n",
    "\n",
    "milestone1()\n"
   ]
  },
  {
   "cell_type": "code",
   "execution_count": null,
   "metadata": {},
   "outputs": [],
   "source": []
  },
  {
   "cell_type": "code",
   "execution_count": null,
   "metadata": {},
   "outputs": [],
   "source": []
  }
 ],
 "metadata": {
  "kernelspec": {
   "display_name": "Python 3",
   "language": "python",
   "name": "python3"
  },
  "language_info": {
   "codemirror_mode": {
    "name": "ipython",
    "version": 3
   },
   "file_extension": ".py",
   "mimetype": "text/x-python",
   "name": "python",
   "nbconvert_exporter": "python",
   "pygments_lexer": "ipython3",
   "version": "3.11.3"
  }
 },
 "nbformat": 4,
 "nbformat_minor": 2
}
