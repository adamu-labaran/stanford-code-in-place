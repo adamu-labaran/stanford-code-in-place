{
 "cells": [
  {
   "cell_type": "code",
   "execution_count": null,
   "metadata": {},
   "outputs": [],
   "source": [
    "import random\n",
    "\n",
    "def load_words_from_file(filepath):\n",
    "    \"\"\"\n",
    "    Loads words from a file into a list and returns it.\n",
    "    We assume the file to have one word per line.\n",
    "    Returns a list of strings. You should not modify this\n",
    "    function.\n",
    "    \"\"\"\n",
    "    words = []\n",
    "    with open(filepath, 'r') as file_reader:\n",
    "        for line in file_reader.readlines():\n",
    "            cleaned_line = line.strip()\n",
    "            if cleaned_line != '':\n",
    "                words.append(cleaned_line)\n",
    "    \n",
    "    return words\n",
    "\n",
    "def main():\n",
    "    print(\"Milestones\")\n",
    "    \n",
    "    # Milestone #1\n",
    "    words = load_words_from_file(\"cswords.txt\")\n",
    "    \n",
    "    # Milestone #2\n",
    "    input(\"Press Enter to show a randomly chosen word: \")\n",
    "    random_word = random.choice(words)\n",
    "    print(\"Random word:\", random_word)\n",
    "    \n",
    "    # Milestone #3\n",
    "    while True:\n",
    "        input(\"Press Enter to show another word (or type 'exit' to quit): \")\n",
    "        random_word = random.choice(words)\n",
    "        print(\"Random word:\", random_word)\n",
    "        if input().lower() == 'exit':\n",
    "            break\n",
    "\n",
    "if __name__ == '__main__':\n",
    "    main()\n"
   ]
  }
 ],
 "metadata": {
  "language_info": {
   "name": "python"
  }
 },
 "nbformat": 4,
 "nbformat_minor": 2
}
