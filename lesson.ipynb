{
 "cells": [
  {
   "cell_type": "code",
   "execution_count": null,
   "metadata": {},
   "outputs": [],
   "source": [
    "import random\n",
    "\n",
    "def load_words_from_file(filepath):\n",
    "    \"\"\"\n",
    "    Loads words from a file into a list and returns it.\n",
    "    We assume the file to have one word per line.\n",
    "    Returns a list of strings. You should not modify this\n",
    "    function.\n",
    "    \"\"\"\n",
    "    words = []\n",
    "    with open(filepath, 'r') as file_reader:\n",
    "        for line in file_reader.readlines():\n",
    "            cleaned_line = line.strip()\n",
    "            if cleaned_line != '':\n",
    "                words.append(cleaned_line)\n",
    "    \n",
    "    return words\n",
    "\n",
    "def main():\n",
    "    print(\"Milestones\")\n",
    "    \n",
    "    # Milestone #1\n",
    "    words = load_words_from_file(\"cswords.txt\")\n",
    "    \n",
    "    # Milestone #2\n",
    "    input(\"Press Enter to show a randomly chosen word: \")\n",
    "    random_word = random.choice(words)\n",
    "    print(\"Random word:\", random_word)\n",
    "    \n",
    "    # Milestone #3\n",
    "    while True:\n",
    "        input(\"Press Enter to show another word (or type 'exit' to quit): \")\n",
    "        random_word = random.choice(words)\n",
    "        print(\"Random word:\", random_word)\n",
    "        if input().lower() == 'exit':\n",
    "            break\n",
    "\n",
    "if __name__ == '__main__':\n",
    "    main()\n"
   ]
  },
  {
   "cell_type": "code",
   "execution_count": null,
   "metadata": {},
   "outputs": [],
   "source": [
    "    \"\"\"\n",
    "    This code accomplishes the following milestones:\n",
    "\n",
    "Milestone #1: The load_words_from_file function loads all words from the file \"cswords.txt\" into a list.\n",
    "Milestone #2: It shows a randomly chosen word from the list after the user presses Enter.\n",
    "Milestone #3: It repeats the process of waiting for the user to press Enter and then showing another randomly chosen word until the user types 'exit'.\n",
    "    \"\"\""
   ]
  }
 ],
 "metadata": {
  "language_info": {
   "name": "python"
  }
 },
 "nbformat": 4,
 "nbformat_minor": 2
}
